{
 "cells": [
  {
   "cell_type": "markdown",
   "metadata": {},
   "source": [
    "# This is the practice on numpy"
   ]
  },
  {
   "cell_type": "markdown",
   "metadata": {},
   "source": [
    "here is a useful reference :\n",
    "http://docs.scipy.org/doc/numpy/reference/arrays.ndarray.html"
   ]
  },
  {
   "cell_type": "code",
   "execution_count": 2,
   "metadata": {
    "collapsed": true
   },
   "outputs": [],
   "source": [
    "import numpy as np"
   ]
  },
  {
   "cell_type": "markdown",
   "metadata": {},
   "source": [
    "# 1. Reverse a vector (first element becomes last)"
   ]
  },
  {
   "cell_type": "code",
   "execution_count": 8,
   "metadata": {
    "scrolled": true
   },
   "outputs": [
    {
     "data": {
      "text/plain": [
       "array([49, 48, 47, 46, 45, 44, 43, 42, 41, 40, 39, 38, 37, 36, 35, 34, 33,\n",
       "       32, 31, 30, 29, 28, 27, 26, 25, 24, 23, 22, 21, 20, 19, 18, 17, 16,\n",
       "       15, 14, 13, 12, 11, 10,  9,  8,  7,  6,  5,  4,  3,  2,  1,  0])"
      ]
     },
     "execution_count": 8,
     "metadata": {},
     "output_type": "execute_result"
    }
   ],
   "source": [
    "x = np.arange(50)\n",
    "#complete here ,to reverse x\n",
    "x = x[::-1]\n",
    "x"
   ]
  },
  {
   "cell_type": "markdown",
   "metadata": {},
   "source": [
    "# 2. Create a 2d array with 1 on the border and 0 inside "
   ]
  },
  {
   "cell_type": "code",
   "execution_count": 16,
   "metadata": {},
   "outputs": [
    {
     "data": {
      "text/plain": [
       "array([[1, 1, 1, 1, 1, 1, 1, 1, 1, 1, 1, 1],\n",
       "       [1, 0, 0, 0, 0, 0, 0, 0, 0, 0, 0, 1],\n",
       "       [1, 0, 0, 0, 0, 0, 0, 0, 0, 0, 0, 1],\n",
       "       [1, 0, 0, 0, 0, 0, 0, 0, 0, 0, 0, 1],\n",
       "       [1, 0, 0, 0, 0, 0, 0, 0, 0, 0, 0, 1],\n",
       "       [1, 0, 0, 0, 0, 0, 0, 0, 0, 0, 0, 1],\n",
       "       [1, 0, 0, 0, 0, 0, 0, 0, 0, 0, 0, 1],\n",
       "       [1, 0, 0, 0, 0, 0, 0, 0, 0, 0, 0, 1],\n",
       "       [1, 0, 0, 0, 0, 0, 0, 0, 0, 0, 0, 1],\n",
       "       [1, 0, 0, 0, 0, 0, 0, 0, 0, 0, 0, 1],\n",
       "       [1, 0, 0, 0, 0, 0, 0, 0, 0, 0, 0, 1],\n",
       "       [1, 1, 1, 1, 1, 1, 1, 1, 1, 1, 1, 1]])"
      ]
     },
     "execution_count": 16,
     "metadata": {},
     "output_type": "execute_result"
    }
   ],
   "source": [
    "x = np.full((10,10), 0)\n",
    "#complete here ,to make output as following sample \n",
    "x= np.pad(x, pad_width=1, mode='constant', constant_values=1)\n",
    "x"
   ]
  },
  {
   "cell_type": "markdown",
   "metadata": {},
   "source": [
    "# 3. Multiply a 2x2 matrix (a) by a 2x2 matrix(b)  (real matrix product)"
   ]
  },
  {
   "cell_type": "code",
   "execution_count": 18,
   "metadata": {},
   "outputs": [
    {
     "data": {
      "text/plain": [
       "array([[ 2.,  2.],\n",
       "       [ 2.,  2.]])"
      ]
     },
     "execution_count": 18,
     "metadata": {},
     "output_type": "execute_result"
    }
   ],
   "source": [
    "a = np.ones((2,2))\n",
    "b = np.ones((2,2))\n",
    "\n",
    "                   #complete here ,to make output as following sample \n",
    "c = a.dot(b)\n",
    "c"
   ]
  },
  {
   "cell_type": "markdown",
   "metadata": {},
   "source": [
    "# 4. Create random vector of size 10 and replace the maximum value by 0"
   ]
  },
  {
   "cell_type": "code",
   "execution_count": 22,
   "metadata": {},
   "outputs": [
    {
     "name": "stdout",
     "output_type": "stream",
     "text": [
      "[ 0.78220944  0.1583751   0.7820494   0.0665885   0.41212343  0.00637065\n",
      "  0.71071905  0.89484702  0.7064315   0.41884543]\n",
      "[ 0.78220944  0.1583751   0.7820494   0.0665885   0.41212343  0.00637065\n",
      "  0.71071905  0.          0.7064315   0.41884543]\n"
     ]
    }
   ],
   "source": [
    "Z = np.random.random(10)\n",
    "print(Z)\n",
    "Z[Z.argmax()] = 0\n",
    "#complete here ,to make output as following sample \n",
    "print(Z)"
   ]
  },
  {
   "cell_type": "markdown",
   "metadata": {},
   "source": [
    "# 5. How to find the closest value (to a given scalar) in an array? "
   ]
  },
  {
   "cell_type": "code",
   "execution_count": 31,
   "metadata": {},
   "outputs": [
    {
     "name": "stdout",
     "output_type": "stream",
     "text": [
      "[0 1 2 3 4 5 6 7 8 9]\n",
      "5.704260675589101\n",
      "6\n"
     ]
    }
   ],
   "source": [
    "z = np.arange(10)\n",
    "v = np.random.uniform(0,10)\n",
    "print(z)\n",
    "print(v)                \n",
    "                  \n",
    "index = (np.abs(z-v)).argmin()\n",
    "print(z[index])"
   ]
  },
  {
   "cell_type": "markdown",
   "metadata": {},
   "source": [
    "# 6. Create a 8x8 matrix and fill it with a checkerboard pattern"
   ]
  },
  {
   "cell_type": "code",
   "execution_count": 30,
   "metadata": {},
   "outputs": [
    {
     "name": "stdout",
     "output_type": "stream",
     "text": [
      "[[1 0 1 0 1 0 1 0 1 0 1 0 1 0 1 0]\n",
      " [0 1 0 1 0 1 0 1 0 1 0 1 0 1 0 1]\n",
      " [1 0 1 0 1 0 1 0 1 0 1 0 1 0 1 0]\n",
      " [0 1 0 1 0 1 0 1 0 1 0 1 0 1 0 1]\n",
      " [1 0 1 0 1 0 1 0 1 0 1 0 1 0 1 0]\n",
      " [0 1 0 1 0 1 0 1 0 1 0 1 0 1 0 1]\n",
      " [1 0 1 0 1 0 1 0 1 0 1 0 1 0 1 0]\n",
      " [0 1 0 1 0 1 0 1 0 1 0 1 0 1 0 1]\n",
      " [1 0 1 0 1 0 1 0 1 0 1 0 1 0 1 0]\n",
      " [0 1 0 1 0 1 0 1 0 1 0 1 0 1 0 1]\n",
      " [1 0 1 0 1 0 1 0 1 0 1 0 1 0 1 0]\n",
      " [0 1 0 1 0 1 0 1 0 1 0 1 0 1 0 1]\n",
      " [1 0 1 0 1 0 1 0 1 0 1 0 1 0 1 0]\n",
      " [0 1 0 1 0 1 0 1 0 1 0 1 0 1 0 1]\n",
      " [1 0 1 0 1 0 1 0 1 0 1 0 1 0 1 0]\n",
      " [0 1 0 1 0 1 0 1 0 1 0 1 0 1 0 1]]\n"
     ]
    }
   ],
   "source": [
    "#complete here ,to make output as following sample \n",
    "def build_checkerboard(w, h) :\n",
    "    re = np.r_[ w*[1,0] ]              # even-numbered rows\n",
    "    ro = np.r_[ w*[0,1] ]              # odd-numbered rows\n",
    "    return np.row_stack(h*(re, ro))\n",
    "    \n",
    "print(build_checkerboard(8, 8))"
   ]
  },
  {
   "cell_type": "markdown",
   "metadata": {},
   "source": [
    "# 7. Normalize a 5x5 random matrix "
   ]
  },
  {
   "cell_type": "code",
   "execution_count": 44,
   "metadata": {},
   "outputs": [
    {
     "name": "stdout",
     "output_type": "stream",
     "text": [
      "[[ 0.60312549  0.47099657  0.32937794  0.08617916  0.0084895 ]\n",
      " [ 0.33105704  0.29953413  0.10196851  0.00391551  0.57734274]\n",
      " [ 0.13811476  0.54882179  0.63720856  0.85200065  0.63995941]\n",
      " [ 0.78882754  0.35181667  0.28363069  0.12958375  0.89122315]\n",
      " [ 0.64591481  0.74824795  0.70174737  0.80615354  0.16318198]]\n",
      "[[ 0.67531255  0.52640261  0.36679774  0.09271153  0.00515492]\n",
      " [ 0.36869009  0.33316361  0.11050621  0.          0.64625526]\n",
      " [ 0.1512432   0.61411201  0.71372434  0.95579606  0.71682455]\n",
      " [ 0.88459966  0.39208629  0.31524037  0.14162872  1.        ]\n",
      " [ 0.72353632  0.83886626  0.78645988  0.90412614  0.17949408]]\n"
     ]
    }
   ],
   "source": [
    "Z = np.random.random((5,5))\n",
    "print(Z)\n",
    "\n",
    "Z = (Z - np.min(Z)) / (np.max(Z) - np.min(Z))\n",
    "print(Z)"
   ]
  },
  {
   "cell_type": "markdown",
   "metadata": {},
   "source": [
    "# 8. Extract the integer part of a random array using 5 different methods "
   ]
  },
  {
   "cell_type": "code",
   "execution_count": 46,
   "metadata": {},
   "outputs": [
    {
     "name": "stdout",
     "output_type": "stream",
     "text": [
      "[ 9.  0.  7.  6.  3.  8.  8.  7.  4.  5.]\n",
      "[ 9.  0.  7.  6.  3.  8.  8.  7.  4.  5.]\n",
      "[ 9.  0.  7.  6.  3.  8.  8.  7.  4.  5.]\n",
      "[9 0 7 6 3 8 8 7 4 5]\n",
      "[ 9.  0.  7.  6.  3.  8.  8.  7.  4.  5.]\n"
     ]
    }
   ],
   "source": [
    "Z = np.random.uniform(0,10,10)\n",
    "\n",
    "print (Z - Z%1)\n",
    "print (np.floor(Z))\n",
    "print (np.ceil(Z)-1)\n",
    "print (Z.astype(int))\n",
    "print (np.trunc(Z))"
   ]
  },
  {
   "cell_type": "markdown",
   "metadata": {},
   "source": [
    "# 9. Consider a random 10x2 matrix representing cartesian coordinates, convert them to polar coordinates"
   ]
  },
  {
   "cell_type": "code",
   "execution_count": 50,
   "metadata": {},
   "outputs": [
    {
     "name": "stdout",
     "output_type": "stream",
     "text": [
      "[[ 0.55027061  0.02975261]\n",
      " [ 0.12650514  0.59055547]\n",
      " [ 0.6717492   0.87254431]\n",
      " [ 0.21209332  0.62196988]\n",
      " [ 0.1107509   0.9844498 ]\n",
      " [ 0.51302804  0.55684907]\n",
      " [ 0.32122436  0.9452987 ]\n",
      " [ 0.33961998  0.42600089]\n",
      " [ 0.40741413  0.4502353 ]\n",
      " [ 0.9242024   0.7931522 ]]\n",
      "(array([ 0.55107437,  0.60395307,  1.10117236,  0.65713782,  0.99065997,\n",
      "        0.75715168,  0.99838606,  0.54481051,  0.60720516,  1.21788361]), array([ 0.05401645,  1.35977174,  0.9146967 ,  1.24215942,  1.45876706,\n",
      "        0.82633422,  1.24322586,  0.89774771,  0.83528525,  0.70923642]))\n"
     ]
    }
   ],
   "source": [
    "Z = np.random.random((10,2))\n",
    "print(Z)\n",
    "X,Y = Z[:,0], Z[:,1]\n",
    "R = np.sqrt(X**2+Y**2)                          #complete here ,to make output as following sample \n",
    "T = np.arctan2(Y,X)\n",
    "o = (R, T)\n",
    "\n",
    "print(o)"
   ]
  },
  {
   "cell_type": "markdown",
   "metadata": {},
   "source": [
    "# 10. Tell the difference between view and copy, among b,c,d which is shade copy of a, which is deep copy of a?"
   ]
  },
  {
   "cell_type": "code",
   "execution_count": 82,
   "metadata": {},
   "outputs": [
    {
     "name": "stdout",
     "output_type": "stream",
     "text": [
      "b:\n",
      "[[0 0 0]\n",
      " [4 5 6]]\n",
      "a:\n",
      "[[0 0 0]\n",
      " [4 5 6]]\n",
      "c:\n",
      "[-1  4]\n",
      "a:\n",
      "[[ 0 -1  0]\n",
      " [ 4  4  6]]\n",
      "d:\n",
      "[[0 0 0]\n",
      " [0 0 0]]\n",
      "a:\n",
      "[[ 0 -1  0]\n",
      " [ 4  4  6]]\n"
     ]
    }
   ],
   "source": [
    "#creat a\n",
    "a = np.array([[1,2,3],[4,5,6]])\n",
    "# b is another reference object of the array\n",
    "b = a\n",
    "#change b\n",
    "b[0]=0\n",
    "print(\"b:\")\n",
    "print(b)\n",
    "print(\"a:\")\n",
    "print(a)\n",
    "\n",
    "# c is the view on piece of a\n",
    "c = a[:,1]\n",
    "#change c\n",
    "c += -1\n",
    "print(\"c:\")\n",
    "print (c)\n",
    "print(\"a:\")\n",
    "print(a)\n",
    "\n",
    "# d is a copy of a\n",
    "d = a.copy()\n",
    "d -=d\n",
    "print(\"d:\")\n",
    "print(d)\n",
    "print(\"a:\")\n",
    "print(a)\n"
   ]
  },
  {
   "cell_type": "markdown",
   "metadata": {},
   "source": [
    "Solutions: d is a shallow copy of a. "
   ]
  }
 ],
 "metadata": {
  "kernelspec": {
   "display_name": "Python 3",
   "language": "python",
   "name": "python3"
  },
  "language_info": {
   "codemirror_mode": {
    "name": "ipython",
    "version": 3
   },
   "file_extension": ".py",
   "mimetype": "text/x-python",
   "name": "python",
   "nbconvert_exporter": "python",
   "pygments_lexer": "ipython3",
   "version": "3.6.3"
  }
 },
 "nbformat": 4,
 "nbformat_minor": 2
}
