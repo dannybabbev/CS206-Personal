{
 "cells": [
  {
   "cell_type": "markdown",
   "metadata": {},
   "source": [
    "# This is the practice on numpy"
   ]
  },
  {
   "cell_type": "markdown",
   "metadata": {},
   "source": [
    "here is a useful reference :\n",
    "http://docs.scipy.org/doc/numpy/reference/arrays.ndarray.html"
   ]
  },
  {
   "cell_type": "code",
   "execution_count": 2,
   "metadata": {
    "collapsed": true
   },
   "outputs": [],
   "source": [
    "import numpy as np"
   ]
  },
  {
   "cell_type": "markdown",
   "metadata": {},
   "source": [
    "# 1. Reverse a vector (first element becomes last)"
   ]
  },
  {
   "cell_type": "code",
   "execution_count": 3,
   "metadata": {
    "scrolled": true
   },
   "outputs": [
    {
     "data": {
      "text/plain": [
       "array([ 0,  1,  2,  3,  4,  5,  6,  7,  8,  9, 10, 11, 12, 13, 14, 15, 16,\n",
       "       17, 18, 19, 20, 21, 22, 23, 24, 25, 26, 27, 28, 29, 30, 31, 32, 33,\n",
       "       34, 35, 36, 37, 38, 39, 40, 41, 42, 43, 44, 45, 46, 47, 48, 49])"
      ]
     },
     "execution_count": 3,
     "metadata": {},
     "output_type": "execute_result"
    }
   ],
   "source": [
    "x = np.arange(50)\n",
    "#complete here ,to reverse x\n",
    "x[]"
   ]
  },
  {
   "cell_type": "markdown",
   "metadata": {},
   "source": [
    "# 2. Create a 2d array with 1 on the border and 0 inside "
   ]
  },
  {
   "cell_type": "code",
   "execution_count": 88,
   "metadata": {},
   "outputs": [
    {
     "data": {
      "text/plain": [
       "array([[1., 1., 1., 1., 1., 1., 1., 1., 1., 1.],\n",
       "       [1., 0., 0., 0., 0., 0., 0., 0., 0., 1.],\n",
       "       [1., 0., 0., 0., 0., 0., 0., 0., 0., 1.],\n",
       "       [1., 0., 0., 0., 0., 0., 0., 0., 0., 1.],\n",
       "       [1., 0., 0., 0., 0., 0., 0., 0., 0., 1.],\n",
       "       [1., 0., 0., 0., 0., 0., 0., 0., 0., 1.],\n",
       "       [1., 0., 0., 0., 0., 0., 0., 0., 0., 1.],\n",
       "       [1., 0., 0., 0., 0., 0., 0., 0., 0., 1.],\n",
       "       [1., 0., 0., 0., 0., 0., 0., 0., 0., 1.],\n",
       "       [1., 1., 1., 1., 1., 1., 1., 1., 1., 1.]])"
      ]
     },
     "execution_count": 88,
     "metadata": {},
     "output_type": "execute_result"
    }
   ],
   "source": [
    "x = np.ones((10,10))\n",
    "                    #complete here ,to make output as following sample \n",
    "x"
   ]
  },
  {
   "cell_type": "markdown",
   "metadata": {},
   "source": [
    "# 3. Multiply a 2x2 matrix (a) by a 2x2 matrix(b)  (real matrix product)"
   ]
  },
  {
   "cell_type": "code",
   "execution_count": 89,
   "metadata": {},
   "outputs": [
    {
     "data": {
      "text/plain": [
       "array([[2., 2.],\n",
       "       [2., 2.]])"
      ]
     },
     "execution_count": 89,
     "metadata": {},
     "output_type": "execute_result"
    }
   ],
   "source": [
    "a = np.ones((2,2))\n",
    "b = np.ones((2,2))\n",
    "\n",
    "                   #complete here ,to make output as following sample \n",
    "c"
   ]
  },
  {
   "cell_type": "markdown",
   "metadata": {},
   "source": [
    "# 4. Create random vector of size 10 and replace the maximum value by 0"
   ]
  },
  {
   "cell_type": "code",
   "execution_count": 90,
   "metadata": {},
   "outputs": [
    {
     "name": "stdout",
     "output_type": "stream",
     "text": [
      "[0.51877706 0.08445043 0.0576366  0.11254896 0.90327203 0.48209165\n",
      " 0.32616239 0.7139809  0.66518749 0.2363721 ]\n",
      "4\n",
      "[0.51877706 0.08445043 0.0576366  0.11254896 0.         0.48209165\n",
      " 0.32616239 0.7139809  0.66518749 0.2363721 ]\n"
     ]
    }
   ],
   "source": [
    "Z = np.random.random(10)\n",
    "print(Z)\n",
    "print(Z.argmax())\n",
    "                     #complete here ,to make output as following sample \n",
    "print(Z)"
   ]
  },
  {
   "cell_type": "markdown",
   "metadata": {},
   "source": [
    "# 5. How to find the closest value (to a given scalar) in an array? "
   ]
  },
  {
   "cell_type": "code",
   "execution_count": 93,
   "metadata": {},
   "outputs": [
    {
     "name": "stdout",
     "output_type": "stream",
     "text": [
      "[0 1 2 3 4 5 6 7 8 9]\n",
      "2.972650482293729\n",
      "3\n"
     ]
    }
   ],
   "source": [
    "z = np.arange(10)\n",
    "v = np.random.uniform(0,10)\n",
    "print(z)\n",
    "print(v)                \n",
    "                            #complete here ,to make output as following sample\n",
    "print(z[index])"
   ]
  },
  {
   "cell_type": "markdown",
   "metadata": {},
   "source": [
    "# 6. Create a 8x8 matrix and fill it with a checkerboard pattern"
   ]
  },
  {
   "cell_type": "code",
   "execution_count": 96,
   "metadata": {},
   "outputs": [
    {
     "name": "stdout",
     "output_type": "stream",
     "text": [
      "[[0 1 0 1 0 1 0 1]\n",
      " [1 0 1 0 1 0 1 0]\n",
      " [0 1 0 1 0 1 0 1]\n",
      " [1 0 1 0 1 0 1 0]\n",
      " [0 1 0 1 0 1 0 1]\n",
      " [1 0 1 0 1 0 1 0]\n",
      " [0 1 0 1 0 1 0 1]\n",
      " [1 0 1 0 1 0 1 0]]\n"
     ]
    }
   ],
   "source": [
    "Z = np.zeros((8,8),dtype=int)\n",
    "                           #complete here ,to make output as following sample \n",
    "\n",
    "print(Z)"
   ]
  },
  {
   "cell_type": "markdown",
   "metadata": {},
   "source": [
    "# 7. Normalize a 5x5 random matrix "
   ]
  },
  {
   "cell_type": "code",
   "execution_count": 97,
   "metadata": {},
   "outputs": [
    {
     "name": "stdout",
     "output_type": "stream",
     "text": [
      "[[0.         0.98719332 0.30666184 0.29897464 0.71894677]\n",
      " [0.67460104 0.51096734 0.20399181 0.83571913 0.39446016]\n",
      " [0.19782343 0.68714572 0.36005295 0.30188122 0.11320904]\n",
      " [0.51480957 0.82939178 0.55263695 0.08842497 0.49369002]\n",
      " [0.12703978 1.         0.34592973 0.67337964 0.83132915]]\n"
     ]
    }
   ],
   "source": [
    "Z = np.random.random((5,5))\n",
    "                                 #complete here ,to make output as following sample\n",
    "\n",
    "print(Z)"
   ]
  },
  {
   "cell_type": "markdown",
   "metadata": {},
   "source": [
    "# 8. Extract the integer part of a random array using 5 different methods "
   ]
  },
  {
   "cell_type": "code",
   "execution_count": 80,
   "metadata": {},
   "outputs": [
    {
     "name": "stdout",
     "output_type": "stream",
     "text": [
      "[6. 6. 4. 5. 5. 6. 5. 0. 7. 9.]\n",
      "[6. 6. 4. 5. 5. 6. 5. 0. 7. 9.]\n",
      "[6. 6. 4. 5. 5. 6. 5. 0. 7. 9.]\n",
      "[6 6 4 5 5 6 5 0 7 9]\n",
      "[6. 6. 4. 5. 5. 6. 5. 0. 7. 9.]\n"
     ]
    }
   ],
   "source": [
    "Z = np.random.uniform(0,10,10)\n",
    "\n",
    "print (Z - Z%1)\n",
    "print (np.floor(Z))\n",
    "print (np.ceil(Z)-1)\n",
    "print (Z.astype(int))\n",
    "print (np.trunc(Z))"
   ]
  },
  {
   "cell_type": "markdown",
   "metadata": {},
   "source": [
    "# 9. Consider a random 10x2 matrix representing cartesian coordinates, convert them to polar coordinates"
   ]
  },
  {
   "cell_type": "code",
   "execution_count": 98,
   "metadata": {},
   "outputs": [
    {
     "name": "stdout",
     "output_type": "stream",
     "text": [
      "[[0.17991791 0.22293021]\n",
      " [0.96303845 0.4820591 ]\n",
      " [0.27937014 0.53451206]\n",
      " [0.08266689 0.55131718]\n",
      " [0.0458307  0.80862648]\n",
      " [0.32920758 0.37439142]\n",
      " [0.20529739 0.98264708]\n",
      " [0.05825229 0.65443041]\n",
      " [0.72992798 0.57344277]\n",
      " [0.93099764 0.06902747]]\n",
      "[0.28647571 1.07695126 0.60311758 0.55748045 0.80992422 0.49854445\n",
      " 1.00386369 0.65701788 0.92824106 0.93355311]\n",
      "[0.8917657  0.46409599 1.08918245 1.42196082 1.51417969 0.84952827\n",
      " 1.36483604 1.4820181  0.66590818 0.07400814]\n"
     ]
    }
   ],
   "source": [
    "Z = np.random.random((10,2))\n",
    "print(Z)\n",
    "X,Y = Z[:,0], Z[:,1]\n",
    "R = np.sqrt(X**2+Y**2)                          #complete here ,to make output as following sample \n",
    "T = np.arctan2(Y,X)\n",
    "print(R)\n",
    "print(T)"
   ]
  },
  {
   "cell_type": "markdown",
   "metadata": {},
   "source": [
    "# 10. Tell the difference between view and copy, among b,c,d which is shade copy of a, which is deep copy of a?"
   ]
  },
  {
   "cell_type": "code",
   "execution_count": 82,
   "metadata": {},
   "outputs": [
    {
     "name": "stdout",
     "output_type": "stream",
     "text": [
      "b:\n",
      "[[0 0 0]\n",
      " [4 5 6]]\n",
      "a:\n",
      "[[0 0 0]\n",
      " [4 5 6]]\n",
      "c:\n",
      "[-1  4]\n",
      "a:\n",
      "[[ 0 -1  0]\n",
      " [ 4  4  6]]\n",
      "d:\n",
      "[[0 0 0]\n",
      " [0 0 0]]\n",
      "a:\n",
      "[[ 0 -1  0]\n",
      " [ 4  4  6]]\n"
     ]
    }
   ],
   "source": [
    "#creat a\n",
    "a = np.array([[1,2,3],[4,5,6]])\n",
    "# b is another reference object of the array\n",
    "b = a\n",
    "#change b\n",
    "b[0]=0\n",
    "print(\"b:\")\n",
    "print(b)\n",
    "print(\"a:\")\n",
    "print(a)\n",
    "\n",
    "# c is the view on piece of a\n",
    "c = a[:,1]\n",
    "#change c\n",
    "c += -1\n",
    "print(\"c:\")\n",
    "print (c)\n",
    "print(\"a:\")\n",
    "print(a)\n",
    "\n",
    "# d is a copy of a\n",
    "d = a.copy()\n",
    "d -=d\n",
    "print(\"d:\")\n",
    "print(d)\n",
    "print(\"a:\")\n",
    "print(a)\n"
   ]
  },
  {
   "cell_type": "markdown",
   "metadata": {},
   "source": [
    "Solutions:..."
   ]
  }
 ],
 "metadata": {
  "kernelspec": {
   "display_name": "Python 3",
   "language": "python",
   "name": "python3"
  },
  "language_info": {
   "codemirror_mode": {
    "name": "ipython",
    "version": 3
   },
   "file_extension": ".py",
   "mimetype": "text/x-python",
   "name": "python",
   "nbconvert_exporter": "python",
   "pygments_lexer": "ipython3",
   "version": "3.6.3"
  }
 },
 "nbformat": 4,
 "nbformat_minor": 2
}
