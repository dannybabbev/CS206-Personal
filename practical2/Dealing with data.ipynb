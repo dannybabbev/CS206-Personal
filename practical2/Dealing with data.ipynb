{
 "cells": [
  {
   "cell_type": "markdown",
   "metadata": {},
   "source": [
    "# Dealing with data\n"
   ]
  },
  {
   "cell_type": "markdown",
   "metadata": {
    "collapsed": true
   },
   "source": [
    "## 1. The command line\n",
    "The command line is a text oriented way to perform operations with your operating system (looking at files, copying or creating folders, starting programs, etc). \n",
    "\n",
    "It can give you more control and provide a way to \"look under the hood\". In many cases, such as dealing with raw data files, the command line is faster. \n",
    "\n",
    "As computer scientists you should be familiar with the terminal or command line as well as unix (\"Bash\") commands.\n",
    "\n",
    "![Terminal](images/terminal.png)\n",
    "\n",
    "Note: MS Windows provides a different set of command line commands from Unix. Apple computers include the full set of Unix commands as the operating system is more closely based on Unix. Linux is an implementation of Unix. When you installed the Anaconda distribution in the last practical, you also installed the Unix commands onto your system as well. "
   ]
  },
  {
   "cell_type": "markdown",
   "metadata": {},
   "source": [
    "### 1.1. File system (Optional*)\n",
    "To navigate the folder structure of the machine you are on you will typically use commands such as `ls` (list) and `cd` (change directory). You can make a directory with `mkdir` or move (`mv`) and copy (`cp`) files. To delete a file you can `rm` (remove) it. To print the contents of a file you can `cat` (concatenate) it to the screen.\n",
    "\n",
    "Many commands have options you can set when running them. For example to get a listing of files as a vertical list you can pass the `-l` (list) flag, e.g. '`ls -l`'. During the normal course of using the command line, you will learn the most useful flags. The `-r` option is for recursive version of commands so that you can for example delete subfolders when you delete a directory with `rm -r` (be very careful with this command!).\n",
    "\n",
    "If you want to see all possible options you can always read the `man` (manual) page for a command, e.g. '`man ls`'. When you are done reading the `man` page, you can exit by hitting `q` to quit."
   ]
  },
  {
   "cell_type": "markdown",
   "metadata": {},
   "source": [
    "You can use shell commands in IPython notebooks by prefixing the line with an exclamation point!"
   ]
  },
  {
   "cell_type": "code",
   "execution_count": 6,
   "metadata": {
    "collapsed": true,
    "scrolled": true
   },
   "outputs": [
    {
     "name": "stdout",
     "output_type": "stream",
     "text": [
      "Dealing with data solutions.ipynb\n",
      "Dealing with data.ipynb\n",
      "data\n",
      "images\n"
     ]
    }
   ],
   "source": [
    "!ls"
   ]
  },
  {
   "cell_type": "code",
<<<<<<< HEAD
   "execution_count": null,
   "metadata": {
    "collapsed": true
   },
=======
   "execution_count": 7,
   "metadata": {},
>>>>>>> upstream/master
   "outputs": [],
   "source": [
    "!mkdir test"
   ]
  },
  {
   "cell_type": "code",
<<<<<<< HEAD
   "execution_count": null,
   "metadata": {
    "collapsed": true
   },
   "outputs": [],
=======
   "execution_count": 8,
   "metadata": {},
   "outputs": [
    {
     "name": "stdout",
     "output_type": "stream",
     "text": [
      "total 56\n",
      "-rw-r--r-- 1 adamg 197609 26611 Mar 20 15:03 Dealing with data solutions.ipynb\n",
      "-rw-r--r-- 1 adamg 197609 26611 Mar 12 11:17 Dealing with data.ipynb\n",
      "drwxr-xr-x 1 adamg 197609     0 Mar  9 11:43 data\n",
      "drwxr-xr-x 1 adamg 197609     0 Mar  9 17:10 images\n",
      "drwxr-xr-x 1 adamg 197609     0 Mar 20 15:03 test\n"
     ]
    }
   ],
>>>>>>> upstream/master
   "source": [
    "!ls -l"
   ]
  },
  {
   "cell_type": "code",
<<<<<<< HEAD
   "execution_count": null,
   "metadata": {
    "collapsed": true
   },
   "outputs": [],
=======
   "execution_count": 9,
   "metadata": {},
   "outputs": [
    {
     "name": "stdout",
     "output_type": "stream",
     "text": [
      "total 60\n",
      "-rw-r--r-- 1 adamg 197609 26799 Mar  9 17:10 iris.png\n",
      "-rw-r--r-- 1 adamg 197609 28925 Mar  9 11:43 terminal.png\n"
     ]
    }
   ],
>>>>>>> upstream/master
   "source": [
    "!ls -l images/"
   ]
  },
  {
   "cell_type": "code",
   "execution_count": null,
   "metadata": {
    "collapsed": true
   },
   "outputs": [],
   "source": [
    "!cp images/terminal.png test/some_picture.png"
   ]
  },
  {
   "cell_type": "code",
   "execution_count": null,
   "metadata": {
    "collapsed": true
   },
   "outputs": [],
   "source": [
    "!ls test/"
   ]
  },
  {
   "cell_type": "code",
   "execution_count": null,
   "metadata": {
    "collapsed": true
   },
   "outputs": [],
   "source": [
    "!rm test/ # you can't delete a folder using `rm`!"
   ]
  },
  {
   "cell_type": "code",
<<<<<<< HEAD
   "execution_count": null,
   "metadata": {
    "collapsed": true
   },
=======
   "execution_count": 5,
   "metadata": {},
>>>>>>> upstream/master
   "outputs": [],
   "source": [
    "# WARNING THIS WILL NOT CONFIRM!\n",
    "!rm -rf test/"
   ]
  },
  {
   "cell_type": "code",
   "execution_count": null,
   "metadata": {
    "collapsed": true
   },
   "outputs": [],
   "source": [
    "!ls -l"
   ]
  },
  {
   "cell_type": "markdown",
   "metadata": {},
   "source": [
    "### 1.2. Data manipulation and exploration\n",
    "Virtually anything you want to do with a data file can be done at the command line. There are dozens of commands that can be used together to almost anything you would think of! \n",
    "\n",
    "Lets take a look at the the file `data/users.csv`."
   ]
  },
  {
   "cell_type": "markdown",
   "metadata": {},
   "source": [
    "Before we do anything, lets take a look at the first few lines of the file to get an idea of what's in it."
   ]
  },
  {
   "cell_type": "code",
   "execution_count": null,
   "metadata": {
    "collapsed": true
   },
   "outputs": [],
   "source": [
    "!head data/users.csv"
   ]
  },
  {
   "cell_type": "markdown",
   "metadata": {},
   "source": [
    "Maybe we want to see a few more lines of the file,"
   ]
  },
  {
   "cell_type": "code",
   "execution_count": null,
   "metadata": {
    "collapsed": true
   },
   "outputs": [],
   "source": [
    "!head -15 data/users.csv"
   ]
  },
  {
   "cell_type": "markdown",
   "metadata": {},
   "source": [
    "How about the last few lines of the file?"
   ]
  },
  {
   "cell_type": "code",
   "execution_count": null,
   "metadata": {
    "collapsed": true
   },
   "outputs": [],
   "source": [
    "!tail data/users.csv"
   ]
  },
  {
   "cell_type": "markdown",
   "metadata": {},
   "source": [
    "We can count how many lines are in the file by using `wc` (a word counting tool) with the `-l` flag to count lines,"
   ]
  },
  {
   "cell_type": "code",
   "execution_count": null,
   "metadata": {
    "collapsed": true
   },
   "outputs": [],
   "source": [
    "!wc -l data/users.csv"
   ]
  },
  {
   "cell_type": "markdown",
   "metadata": {},
   "source": [
    "It looks like there are three columns in this file, lets take a look at the first one alone. Here, we can `cut` the field (`-f`) we want as long as we give the proper delimeter (`-d` defaults to tab)."
   ]
  },
  {
   "cell_type": "code",
   "execution_count": null,
   "metadata": {
    "collapsed": true,
    "scrolled": true
   },
   "outputs": [],
   "source": [
    "!cut -f1 -d',' data/users.csv"
   ]
  },
  {
   "cell_type": "markdown",
   "metadata": {},
   "source": [
    "That's a lot of output. Let's combine the `cut` command with the `head` command by _piping_ the output of one command into another one,"
   ]
  },
  {
   "cell_type": "code",
   "execution_count": null,
   "metadata": {
    "collapsed": true,
    "scrolled": true
   },
   "outputs": [],
   "source": [
    "!cut -f1 -d',' data/users.csv | head"
   ]
  },
  {
   "cell_type": "markdown",
   "metadata": {},
   "source": [
    "We can use pipes (`|`) to string together many commands to create very powerful one liners. For example, lets get the number of unique users in the first column. We will get all values from the first column, sort them, find all unique values, and then count the number of lines,"
   ]
  },
  {
   "cell_type": "code",
   "execution_count": null,
   "metadata": {
    "collapsed": true
   },
   "outputs": [],
   "source": [
    "!cut -f1 -d',' data/users.csv | sort | uniq | wc -l"
   ]
  },
  {
   "cell_type": "markdown",
   "metadata": {},
   "source": [
    "Or, we can get a list of the top-10 most frequently occuring users. If we give `uniq` the `-c` flag, it will return the number of times each value occurs. Since these counts are the first entry in each new line, we can tell `sort` to expect numbers (`-n`) and to give us the results in reverse (`-r`) order. Note, that when you want to use two or more single letter flags, you can just place them one after another."
   ]
  },
  {
   "cell_type": "code",
   "execution_count": null,
   "metadata": {
    "collapsed": true
   },
   "outputs": [],
   "source": [
    "!cut -f1 -d',' data/users.csv | sort | uniq -c | sort -nr | head"
   ]
  },
  {
   "cell_type": "markdown",
   "metadata": {},
   "source": [
    "After some exploration we decide we want to keep only part of our data and bring it into a new file. Let's find all the records that have a negative value in the second and third columns and put these results in a file called `data/negative_users.csv`. Searching through files can be done using _[regular expressions](http://www.robelle.com/smugbook/regexpr.html#expression)_ with a tool called `grep` (Global Regular Expression Printer). You can direct output into a file using a `>`."
   ]
  },
  {
   "cell_type": "code",
   "execution_count": null,
   "metadata": {
    "collapsed": true
   },
   "outputs": [],
   "source": [
    "!grep '.*,-.*,-.*' data/users.csv > data/negative_users.csv"
   ]
  },
  {
   "cell_type": "markdown",
   "metadata": {},
   "source": [
    "We can check the data folder to see if our new file is in there,"
   ]
  },
  {
   "cell_type": "code",
   "execution_count": null,
   "metadata": {
    "collapsed": true
   },
   "outputs": [],
   "source": [
    "!ls -l data"
   ]
  },
  {
   "cell_type": "markdown",
   "metadata": {},
   "source": [
    "## 2. Using Python, IPython, and Pandas\n",
    "The command line is great for a first step in data exploration. However, to do some more in depth operations you will generally want to move to a language and environment better suited for involved data manipulation. Here, we will discuss the use of Python as a data crunching tool.\n",
    "\n",
    "In this section we will only discuss the use of `pandas` to explore data with data frames. You can also explore data line by line by \"streaming\" it; but that is beyond this class. Streaming in data is very useful for highly unstructured data. If you are interested in this, feel free to ask about it on the class forums!"
   ]
  },
  {
   "cell_type": "markdown",
   "metadata": {},
   "source": [
    "### 2.1. Example one: User exploration"
   ]
  },
  {
   "cell_type": "markdown",
   "metadata": {},
   "source": [
    "For structured data like we have here, we will use `pandas`."
   ]
  },
  {
   "cell_type": "code",
   "execution_count": null,
   "metadata": {
    "collapsed": true
   },
   "outputs": [],
   "source": [
    "# Read in data/users.csv using Pandas\n",
    "import pandas as pd\n",
    "users = pd.read_csv(\"data/users.csv\")"
   ]
  },
  {
   "cell_type": "code",
   "execution_count": null,
   "metadata": {
    "collapsed": true
   },
   "outputs": [],
   "source": [
    "# Take a look at the Panda's DataFrame\n",
    "users.head()"
   ]
  },
  {
   "cell_type": "code",
   "execution_count": null,
   "metadata": {
    "collapsed": true
   },
   "outputs": [],
   "source": [
    "# Add another column to this DataFrame\n",
    "users['sum'] = users['variable1'] + users['variable2']\n",
    "users.head()"
   ]
  },
  {
   "cell_type": "markdown",
   "metadata": {},
   "source": [
    "Python and Pandas allow us to do complex tasks very easily, such as plotting.\n",
    "\n",
    "Let's visualize the relationship between variable1 vs. variable2 in these data with a scatterplot."
   ]
  },
  {
   "cell_type": "code",
   "execution_count": null,
   "metadata": {
    "collapsed": true
   },
   "outputs": [],
   "source": [
    "import matplotlib.pyplot as plt\n",
    "%matplotlib inline\n",
    "\n",
    "plt.scatter(users['variable1'], users['variable2'])"
   ]
  },
  {
   "cell_type": "markdown",
   "metadata": {},
   "source": [
    "We can update our DataFrame given the new information we discovered."
   ]
  },
  {
   "cell_type": "code",
   "execution_count": null,
   "metadata": {
    "collapsed": true
   },
   "outputs": [],
   "source": [
    "users.columns = ['user', 'feature1', 'feature2', 'sum']\n",
    "users.head()"
   ]
  },
  {
   "cell_type": "markdown",
   "metadata": {},
   "source": [
    "### 2.2. Example 2: Survey responses\n",
    "Let's read in an edited version of your survey responses. Since the data is very well structured (it's a nicely formatted .csv file) we will simply use `pandas`. This file is located in the `data/` folder."
   ]
  },
  {
   "cell_type": "code",
   "execution_count": null,
   "metadata": {
    "collapsed": true,
    "scrolled": true
   },
   "outputs": [],
   "source": [
    "survey = pd.read_csv('data/survey.csv')"
   ]
  },
  {
   "cell_type": "markdown",
   "metadata": {},
   "source": [
    "Now that we have the data, let's take a look at what we have."
   ]
  },
  {
   "cell_type": "code",
   "execution_count": null,
   "metadata": {
    "collapsed": true
   },
   "outputs": [],
   "source": [
    "survey.head()"
   ]
  },
  {
   "cell_type": "markdown",
   "metadata": {},
   "source": [
    "We have a lot of data here. How can we start to make sense of it? Using the pandas `describe()` method, we can get a summary of the numeric features."
   ]
  },
  {
   "cell_type": "code",
   "execution_count": null,
   "metadata": {
    "collapsed": true
   },
   "outputs": [],
   "source": [
    "survey.describe()"
   ]
  },
  {
   "cell_type": "markdown",
   "metadata": {},
   "source": [
    "You might find it easier to flip the data frame,"
   ]
  },
  {
   "cell_type": "code",
   "execution_count": null,
   "metadata": {
    "collapsed": true
   },
   "outputs": [],
   "source": [
    "survey.describe().transpose()"
   ]
  },
  {
   "cell_type": "markdown",
   "metadata": {},
   "source": [
    "Do we have other features that weren't listed here? Some that aren't numeric? Let's take a look."
   ]
  },
  {
   "cell_type": "code",
   "execution_count": null,
   "metadata": {
    "collapsed": true
   },
   "outputs": [],
   "source": [
    "survey.columns"
   ]
  },
  {
   "cell_type": "markdown",
   "metadata": {},
   "source": [
    "There are more fields here than we saw in our description. If we go back and look at the head of the data, we will see a few fields are Yes/No. Let's turn these into 0's and 1's."
   ]
  },
  {
   "cell_type": "code",
   "execution_count": null,
   "metadata": {
    "collapsed": true
   },
   "outputs": [],
   "source": [
    "for field in ['regression', 'database', 'cloud', 'api']:\n",
    "    survey[field] = (survey[field] == \"Yes\").astype('int')"
   ]
  },
  {
   "cell_type": "code",
   "execution_count": null,
   "metadata": {
    "collapsed": true
   },
   "outputs": [],
   "source": [
    "survey.describe().transpose()"
   ]
  },
  {
   "cell_type": "markdown",
   "metadata": {},
   "source": [
    "We have already seen how to get scatter plots in the previous example. Let's look at a histogram here."
   ]
  },
  {
   "cell_type": "code",
   "execution_count": null,
   "metadata": {
    "collapsed": true
   },
   "outputs": [],
   "source": [
    "import matplotlib.pyplot as plt\n",
    "%matplotlib inline\n",
    "\n",
    "plt.hist(survey['terminal'], bins=range(1, 11))\n",
    "plt.ylabel('Count')\n",
    "plt.xlabel('Rank')\n",
    "plt.show()"
   ]
  },
  {
   "cell_type": "markdown",
   "metadata": {},
   "source": [
    "Let's look at one more type of plot. A very simple line graph. Maybe we are curious about the trend of experience given the timestamp a student submitted their survey. In our data, we have a `timestamp` field as well as all of the experience reports. Let's put a few on a graph and take a look."
   ]
  },
  {
   "cell_type": "code",
   "execution_count": null,
   "metadata": {
    "collapsed": true
   },
   "outputs": [],
   "source": [
    "plt.plot(survey['timestamp'], survey['terminal'], label=\"Terminal\")\n",
    "plt.plot(survey['timestamp'], survey['business'], label=\"Business\")\n",
    "plt.plot(survey['timestamp'], survey['machinelearning'], label=\"Machine Learning\")\n",
    "plt.ylabel(\"Experience\")\n",
    "plt.xlabel(\"Time Submitted\")\n",
    "plt.legend()\n",
    "plt.show()"
   ]
  },
  {
   "cell_type": "markdown",
   "metadata": {},
   "source": [
    "## 3. Getting data from the internet"
   ]
  },
  {
   "cell_type": "markdown",
   "metadata": {},
   "source": [
    "This section looks at obtaining data are loading it into Python."
   ]
  },
  {
   "cell_type": "markdown",
   "metadata": {},
   "source": [
    "### 3.1. Excercise: Downloading the Iris dataset"
   ]
  },
  {
   "cell_type": "markdown",
   "metadata": {},
   "source": [
    "One of the most famous datasets in Machine Learning is the Iris dataset. We looked at it in lectures, it is referred to in the text book, it is used in many publications. \n",
    "\n",
    "First lets download it from the UCI Machine Learning repository: http://mlearn.ics.uci.edu/MLRepository.html"
   ]
  },
  {
   "cell_type": "markdown",
   "metadata": {},
   "source": [
    "We make use of urllib. It is a python library that is part of the base package - it is for downloading urls. \n",
    "\n",
    "Read the doc! \n",
    "https://docs.python.org/3/library/urllib.html#module-urllib"
   ]
  },
  {
   "cell_type": "code",
   "execution_count": 1,
   "metadata": {
    "collapsed": true
   },
   "outputs": [],
   "source": [
    "import urllib.request\n",
    "import pandas as pd\n",
    "import numpy as np\n",
    "\n",
    "url = 'https://archive.ics.uci.edu/ml/machine-learning-databases/iris/iris.data'\n",
    "response = urllib.request.urlopen(url)\n",
    "data = response.read()      # a raw bits 'bytes' object\n",
    "text = data.decode('utf-8') # use the utf-8 string format to create a string 'str' object \n",
    "iris_df=pd.read_csv(url, names=(\"sepal length\",\"sepal width\",\"petal length\",\"petal width\",\"class\")) # Panda object"
   ]
  },
  {
   "cell_type": "markdown",
   "metadata": {},
   "source": [
    "#### Take a look at the file contents"
   ]
  },
  {
   "cell_type": "code",
   "execution_count": 2,
   "metadata": {},
   "outputs": [
    {
     "data": {
      "text/plain": [
       "'5.1,3.5,1.4,0.2,Iris-setosa\\n4.9,3.0,1.4,0.2,Iris-setosa\\n4.7,3.2,1.3,0.2,Iris-setosa\\n4.6,3.1,1.5,0.2,Iris-setosa\\n5.0,3.6,1.4,0.2,Iris-setosa\\n5.4,3.9,1.7,0.4,Iris-setosa\\n4.6,3.4,1.4,0.3,Iris-setosa\\n5.0,3.4,1.5,0.2,Iris-setosa\\n4.4,2.9,1.4,0.2,Iris-setosa\\n4.9,3.1,1.5,0.1,Iris-setosa\\n5.4,3.7,1.5,0.2,Iris-setosa\\n4.8,3.4,1.6,0.2,Iris-setosa\\n4.8,3.0,1.4,0.1,Iris-setosa\\n4.3,3.0,1.1,0.1,Iris-setosa\\n5.8,4.0,1.2,0.2,Iris-setosa\\n5.7,4.4,1.5,0.4,Iris-setosa\\n5.4,3.9,1.3,0.4,Iris-setosa\\n5.1,3.5,1.4,0.3,Iris-setosa\\n5.7,3.8,1.7,0.3,Iris-setosa\\n5.1,3.8,1.5,0.3,Iris-setosa\\n5.4,3.4,1.7,0.2,Iris-setosa\\n5.1,3.7,1.5,0.4,Iris-setosa\\n4.6,3.6,1.0,0.2,Iris-setosa\\n5.1,3.3,1.7,0.5,Iris-setosa\\n4.8,3.4,1.9,0.2,Iris-setosa\\n5.0,3.0,1.6,0.2,Iris-setosa\\n5.0,3.4,1.6,0.4,Iris-setosa\\n5.2,3.5,1.5,0.2,Iris-setosa\\n5.2,3.4,1.4,0.2,Iris-setosa\\n4.7,3.2,1.6,0.2,Iris-setosa\\n4.8,3.1,1.6,0.2,Iris-setosa\\n5.4,3.4,1.5,0.4,Iris-setosa\\n5.2,4.1,1.5,0.1,Iris-setosa\\n5.5,4.2,1.4,0.2,Iris-setosa\\n4.9,3.1,1.5,0.1,Iris-setosa\\n5.0,3.2,1.2,0.2,Iris-setosa\\n5.5,3.5,1.3,0.2,Iris-setosa\\n4.9,3.1,1.5,0.1,Iris-setosa\\n4.4,3.0,1.3,0.2,Iris-setosa\\n5.1,3.4,1.5,0.2,Iris-setosa\\n5.0,3.5,1.3,0.3,Iris-setosa\\n4.5,2.3,1.3,0.3,Iris-setosa\\n4.4,3.2,1.3,0.2,Iris-setosa\\n5.0,3.5,1.6,0.6,Iris-setosa\\n5.1,3.8,1.9,0.4,Iris-setosa\\n4.8,3.0,1.4,0.3,Iris-setosa\\n5.1,3.8,1.6,0.2,Iris-setosa\\n4.6,3.2,1.4,0.2,Iris-setosa\\n5.3,3.7,1.5,0.2,Iris-setosa\\n5.0,3.3,1.4,0.2,Iris-setosa\\n7.0,3.2,4.7,1.4,Iris-versicolor\\n6.4,3.2,4.5,1.5,Iris-versicolor\\n6.9,3.1,4.9,1.5,Iris-versicolor\\n5.5,2.3,4.0,1.3,Iris-versicolor\\n6.5,2.8,4.6,1.5,Iris-versicolor\\n5.7,2.8,4.5,1.3,Iris-versicolor\\n6.3,3.3,4.7,1.6,Iris-versicolor\\n4.9,2.4,3.3,1.0,Iris-versicolor\\n6.6,2.9,4.6,1.3,Iris-versicolor\\n5.2,2.7,3.9,1.4,Iris-versicolor\\n5.0,2.0,3.5,1.0,Iris-versicolor\\n5.9,3.0,4.2,1.5,Iris-versicolor\\n6.0,2.2,4.0,1.0,Iris-versicolor\\n6.1,2.9,4.7,1.4,Iris-versicolor\\n5.6,2.9,3.6,1.3,Iris-versicolor\\n6.7,3.1,4.4,1.4,Iris-versicolor\\n5.6,3.0,4.5,1.5,Iris-versicolor\\n5.8,2.7,4.1,1.0,Iris-versicolor\\n6.2,2.2,4.5,1.5,Iris-versicolor\\n5.6,2.5,3.9,1.1,Iris-versicolor\\n5.9,3.2,4.8,1.8,Iris-versicolor\\n6.1,2.8,4.0,1.3,Iris-versicolor\\n6.3,2.5,4.9,1.5,Iris-versicolor\\n6.1,2.8,4.7,1.2,Iris-versicolor\\n6.4,2.9,4.3,1.3,Iris-versicolor\\n6.6,3.0,4.4,1.4,Iris-versicolor\\n6.8,2.8,4.8,1.4,Iris-versicolor\\n6.7,3.0,5.0,1.7,Iris-versicolor\\n6.0,2.9,4.5,1.5,Iris-versicolor\\n5.7,2.6,3.5,1.0,Iris-versicolor\\n5.5,2.4,3.8,1.1,Iris-versicolor\\n5.5,2.4,3.7,1.0,Iris-versicolor\\n5.8,2.7,3.9,1.2,Iris-versicolor\\n6.0,2.7,5.1,1.6,Iris-versicolor\\n5.4,3.0,4.5,1.5,Iris-versicolor\\n6.0,3.4,4.5,1.6,Iris-versicolor\\n6.7,3.1,4.7,1.5,Iris-versicolor\\n6.3,2.3,4.4,1.3,Iris-versicolor\\n5.6,3.0,4.1,1.3,Iris-versicolor\\n5.5,2.5,4.0,1.3,Iris-versicolor\\n5.5,2.6,4.4,1.2,Iris-versicolor\\n6.1,3.0,4.6,1.4,Iris-versicolor\\n5.8,2.6,4.0,1.2,Iris-versicolor\\n5.0,2.3,3.3,1.0,Iris-versicolor\\n5.6,2.7,4.2,1.3,Iris-versicolor\\n5.7,3.0,4.2,1.2,Iris-versicolor\\n5.7,2.9,4.2,1.3,Iris-versicolor\\n6.2,2.9,4.3,1.3,Iris-versicolor\\n5.1,2.5,3.0,1.1,Iris-versicolor\\n5.7,2.8,4.1,1.3,Iris-versicolor\\n6.3,3.3,6.0,2.5,Iris-virginica\\n5.8,2.7,5.1,1.9,Iris-virginica\\n7.1,3.0,5.9,2.1,Iris-virginica\\n6.3,2.9,5.6,1.8,Iris-virginica\\n6.5,3.0,5.8,2.2,Iris-virginica\\n7.6,3.0,6.6,2.1,Iris-virginica\\n4.9,2.5,4.5,1.7,Iris-virginica\\n7.3,2.9,6.3,1.8,Iris-virginica\\n6.7,2.5,5.8,1.8,Iris-virginica\\n7.2,3.6,6.1,2.5,Iris-virginica\\n6.5,3.2,5.1,2.0,Iris-virginica\\n6.4,2.7,5.3,1.9,Iris-virginica\\n6.8,3.0,5.5,2.1,Iris-virginica\\n5.7,2.5,5.0,2.0,Iris-virginica\\n5.8,2.8,5.1,2.4,Iris-virginica\\n6.4,3.2,5.3,2.3,Iris-virginica\\n6.5,3.0,5.5,1.8,Iris-virginica\\n7.7,3.8,6.7,2.2,Iris-virginica\\n7.7,2.6,6.9,2.3,Iris-virginica\\n6.0,2.2,5.0,1.5,Iris-virginica\\n6.9,3.2,5.7,2.3,Iris-virginica\\n5.6,2.8,4.9,2.0,Iris-virginica\\n7.7,2.8,6.7,2.0,Iris-virginica\\n6.3,2.7,4.9,1.8,Iris-virginica\\n6.7,3.3,5.7,2.1,Iris-virginica\\n7.2,3.2,6.0,1.8,Iris-virginica\\n6.2,2.8,4.8,1.8,Iris-virginica\\n6.1,3.0,4.9,1.8,Iris-virginica\\n6.4,2.8,5.6,2.1,Iris-virginica\\n7.2,3.0,5.8,1.6,Iris-virginica\\n7.4,2.8,6.1,1.9,Iris-virginica\\n7.9,3.8,6.4,2.0,Iris-virginica\\n6.4,2.8,5.6,2.2,Iris-virginica\\n6.3,2.8,5.1,1.5,Iris-virginica\\n6.1,2.6,5.6,1.4,Iris-virginica\\n7.7,3.0,6.1,2.3,Iris-virginica\\n6.3,3.4,5.6,2.4,Iris-virginica\\n6.4,3.1,5.5,1.8,Iris-virginica\\n6.0,3.0,4.8,1.8,Iris-virginica\\n6.9,3.1,5.4,2.1,Iris-virginica\\n6.7,3.1,5.6,2.4,Iris-virginica\\n6.9,3.1,5.1,2.3,Iris-virginica\\n5.8,2.7,5.1,1.9,Iris-virginica\\n6.8,3.2,5.9,2.3,Iris-virginica\\n6.7,3.3,5.7,2.5,Iris-virginica\\n6.7,3.0,5.2,2.3,Iris-virginica\\n6.3,2.5,5.0,1.9,Iris-virginica\\n6.5,3.0,5.2,2.0,Iris-virginica\\n6.2,3.4,5.4,2.3,Iris-virginica\\n5.9,3.0,5.1,1.8,Iris-virginica\\n\\n'"
      ]
     },
     "execution_count": 2,
     "metadata": {},
     "output_type": "execute_result"
    }
   ],
   "source": [
    "text"
   ]
  },
  {
   "cell_type": "markdown",
   "metadata": {},
   "source": [
    "### 3.2. Decision Tree Learning wiht sklearn"
   ]
  },
  {
   "cell_type": "code",
   "execution_count": 3,
   "metadata": {},
   "outputs": [
    {
     "data": {
      "text/html": [
       "<div>\n",
       "<style>\n",
       "    .dataframe thead tr:only-child th {\n",
       "        text-align: right;\n",
       "    }\n",
       "\n",
       "    .dataframe thead th {\n",
       "        text-align: left;\n",
       "    }\n",
       "\n",
       "    .dataframe tbody tr th {\n",
       "        vertical-align: top;\n",
       "    }\n",
       "</style>\n",
       "<table border=\"1\" class=\"dataframe\">\n",
       "  <thead>\n",
       "    <tr style=\"text-align: right;\">\n",
       "      <th></th>\n",
       "      <th>sepal length</th>\n",
       "      <th>sepal width</th>\n",
       "      <th>petal length</th>\n",
       "      <th>petal width</th>\n",
       "      <th>class</th>\n",
       "    </tr>\n",
       "  </thead>\n",
       "  <tbody>\n",
       "    <tr>\n",
       "      <th>0</th>\n",
       "      <td>5.1</td>\n",
       "      <td>3.5</td>\n",
       "      <td>1.4</td>\n",
       "      <td>0.2</td>\n",
       "      <td>Iris-setosa</td>\n",
       "    </tr>\n",
       "    <tr>\n",
       "      <th>1</th>\n",
       "      <td>4.9</td>\n",
       "      <td>3.0</td>\n",
       "      <td>1.4</td>\n",
       "      <td>0.2</td>\n",
       "      <td>Iris-setosa</td>\n",
       "    </tr>\n",
       "    <tr>\n",
       "      <th>2</th>\n",
       "      <td>4.7</td>\n",
       "      <td>3.2</td>\n",
       "      <td>1.3</td>\n",
       "      <td>0.2</td>\n",
       "      <td>Iris-setosa</td>\n",
       "    </tr>\n",
       "    <tr>\n",
       "      <th>3</th>\n",
       "      <td>4.6</td>\n",
       "      <td>3.1</td>\n",
       "      <td>1.5</td>\n",
       "      <td>0.2</td>\n",
       "      <td>Iris-setosa</td>\n",
       "    </tr>\n",
       "    <tr>\n",
       "      <th>4</th>\n",
       "      <td>5.0</td>\n",
       "      <td>3.6</td>\n",
       "      <td>1.4</td>\n",
       "      <td>0.2</td>\n",
       "      <td>Iris-setosa</td>\n",
       "    </tr>\n",
       "  </tbody>\n",
       "</table>\n",
       "</div>"
      ],
      "text/plain": [
       "   sepal length  sepal width  petal length  petal width        class\n",
       "0           5.1          3.5           1.4          0.2  Iris-setosa\n",
       "1           4.9          3.0           1.4          0.2  Iris-setosa\n",
       "2           4.7          3.2           1.3          0.2  Iris-setosa\n",
       "3           4.6          3.1           1.5          0.2  Iris-setosa\n",
       "4           5.0          3.6           1.4          0.2  Iris-setosa"
      ]
     },
     "execution_count": 3,
     "metadata": {},
     "output_type": "execute_result"
    }
   ],
   "source": [
    "iris_df[:].head()"
   ]
  },
  {
   "cell_type": "markdown",
   "metadata": {},
   "source": [
    "Please refer to the Panda documentation during this practical.\n",
    "\n",
    "read csv method doc: https://pandas.pydata.org/pandas-docs/stable/generated/pandas.read_csv.html#pandas.read_csv\n",
    "\n",
    "Some information on merging and combining data frames is at the following link: https://pandas.pydata.org/pandas-docs/stable/merging.html"
   ]
  },
  {
   "cell_type": "code",
   "execution_count": 4,
   "metadata": {},
   "outputs": [
    {
     "data": {
      "image/png": "iVBORw0KGgoAAAANSUhEUgAAAYUAAAEKCAYAAAD9xUlFAAAABHNCSVQICAgIfAhkiAAAAAlwSFlz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\n",
      "text/plain": [
       "<matplotlib.figure.Figure at 0x7f27942d5710>"
      ]
     },
     "metadata": {},
     "output_type": "display_data"
    }
   ],
   "source": [
    "import matplotlib.pyplot as plt\n",
    "x = iris_df[\"sepal length\"]\n",
    "y = iris_df[\"sepal width\"]\n",
    "iris_df[\"class\"]\n",
    "colors = {'Iris-setosa':'red', 'Iris-virginica':'blue', 'Iris-versicolor':'green'}\n",
    "\n",
    "plt.scatter(x, y, c = iris_df[\"class\"].apply(lambda x: colors[x]))\n",
    "\n",
    "#labels\n",
    "plt.xlabel('sepal length')\n",
    "plt.ylabel('sepal width')\n",
    "\n",
    "\n",
    "plt.show()"
   ]
  },
  {
   "cell_type": "markdown",
   "metadata": {},
   "source": [
    "Produce a 3-D plot similar to the one from lecture 1 using matplotlib. \n",
    "\n",
    "You should refer to the matplotlib documentation for 3d plotting - see https://matplotlib.org/mpl_toolkits/mplot3d/tutorial.html\n",
    "\n",
    "Recall this image from lecture 1:\n",
    "![Iris](images/iris.png)\n"
   ]
  },
  {
   "cell_type": "code",
   "execution_count": 5,
   "metadata": {},
   "outputs": [
    {
     "data": {
      "image/png": "iVBORw0KGgoAAAANSUhEUgAAArMAAAI1CAYAAADFDnLeAAAABHNCSVQICAgIfAhkiAAAAAlwSFlz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\n",
      "text/plain": [
       "<matplotlib.figure.Figure at 0x7f27925d4e80>"
      ]
     },
     "metadata": {},
     "output_type": "display_data"
    }
   ],
   "source": [
    "## put your plotting code here\n",
    "## put your plotting code here\n",
    "import matplotlib.pyplot as plt\n",
    "from mpl_toolkits.mplot3d import Axes3D\n",
    "fig = plt.figure()\n",
    "fig.set_size_inches(12, 10)\n",
    "ax = fig.add_subplot(111, projection='3d')\n",
    "x = iris_df[\"sepal length\"]\n",
    "y = iris_df[\"petal width\"]\n",
    "z = iris_df[\"petal length\"]\n",
    "\n",
    "colors = {'Iris-setosa':'red', 'Iris-virginica':'blue', 'Iris-versicolor':'green'}\n",
    "\n",
    "ax.scatter(x, y, z, c = iris_df[\"class\"].apply(lambda x: colors[x]))\n",
    "\n",
    "ax.set_xlabel('Sepal Length')\n",
    "ax.set_ylabel('Petal Width')\n",
    "ax.set_zlabel('Petal Length')\n",
    "\n",
    "plt.show()"
   ]
  },
  {
   "cell_type": "markdown",
   "metadata": {},
   "source": [
    "The plot shows the values of two attributes of Iris and indicates the flower class by color.\n",
    "\n",
    "Now we learn a decision tree to classify the iris dataset.\n",
    "\n",
    "Please read the documentation for Decision Trees in sklearn http://scikit-learn.org/stable/modules/tree.html#tree-classification"
   ]
  },
  {
   "cell_type": "code",
   "execution_count": 6,
   "metadata": {
    "collapsed": true
   },
   "outputs": [],
   "source": [
    "from sklearn import tree\n",
    "\n",
    "attributes = iris_df[[\"sepal length\",\"sepal width\",\"petal length\",\"petal width\"]]\n",
    "target = iris_df[[\"class\"]]\n",
    "\n",
    "clf = tree.DecisionTreeClassifier(criterion='entropy')\n",
    "clf = clf.fit(attributes,target)"
   ]
  },
  {
   "cell_type": "markdown",
   "metadata": {},
   "source": [
    "We can use the decision tree for prediction.\n",
    "\n",
    "First lets predict the values of a feature vector containing [1,1,1,1]:"
   ]
  },
  {
   "cell_type": "code",
   "execution_count": 7,
   "metadata": {},
   "outputs": [
    {
     "data": {
      "text/plain": [
       "array(['Iris-versicolor'], dtype=object)"
      ]
     },
     "execution_count": 7,
     "metadata": {},
     "output_type": "execute_result"
    }
   ],
   "source": [
    "clf.predict([[1,1,1,1]])"
   ]
  },
  {
   "cell_type": "markdown",
   "metadata": {},
   "source": [
    "Okay was predicted to be versicolor."
   ]
  },
  {
   "cell_type": "markdown",
   "metadata": {},
   "source": [
    "Now try predicting the values of the whole dataset that was used for learning the decision tree and compare with original training data:"
   ]
  },
  {
   "cell_type": "code",
   "execution_count": 8,
   "metadata": {},
   "outputs": [
    {
     "data": {
      "text/html": [
       "<div>\n",
       "<style>\n",
       "    .dataframe thead tr:only-child th {\n",
       "        text-align: right;\n",
       "    }\n",
       "\n",
       "    .dataframe thead th {\n",
       "        text-align: left;\n",
       "    }\n",
       "\n",
       "    .dataframe tbody tr th {\n",
       "        vertical-align: top;\n",
       "    }\n",
       "</style>\n",
       "<table border=\"1\" class=\"dataframe\">\n",
       "  <thead>\n",
       "    <tr style=\"text-align: right;\">\n",
       "      <th></th>\n",
       "      <th>prediction</th>\n",
       "      <th>class</th>\n",
       "    </tr>\n",
       "  </thead>\n",
       "  <tbody>\n",
       "    <tr>\n",
       "      <th>0</th>\n",
       "      <td>Iris-setosa</td>\n",
       "      <td>Iris-setosa</td>\n",
       "    </tr>\n",
       "    <tr>\n",
       "      <th>1</th>\n",
       "      <td>Iris-setosa</td>\n",
       "      <td>Iris-setosa</td>\n",
       "    </tr>\n",
       "    <tr>\n",
       "      <th>2</th>\n",
       "      <td>Iris-setosa</td>\n",
       "      <td>Iris-setosa</td>\n",
       "    </tr>\n",
       "    <tr>\n",
       "      <th>3</th>\n",
       "      <td>Iris-setosa</td>\n",
       "      <td>Iris-setosa</td>\n",
       "    </tr>\n",
       "    <tr>\n",
       "      <th>4</th>\n",
       "      <td>Iris-setosa</td>\n",
       "      <td>Iris-setosa</td>\n",
       "    </tr>\n",
       "  </tbody>\n",
       "</table>\n",
       "</div>"
      ],
      "text/plain": [
       "    prediction        class\n",
       "0  Iris-setosa  Iris-setosa\n",
       "1  Iris-setosa  Iris-setosa\n",
       "2  Iris-setosa  Iris-setosa\n",
       "3  Iris-setosa  Iris-setosa\n",
       "4  Iris-setosa  Iris-setosa"
      ]
     },
     "execution_count": 8,
     "metadata": {},
     "output_type": "execute_result"
    }
   ],
   "source": [
    "prediction = clf.predict(attributes)\n",
    "prediction_df = pd.DataFrame({\"prediction\": prediction})\n",
    "prediction_df.head()\n",
    "\n",
    "# create a result that contains the training data classes and the prediction result\n",
    "# use the pandas function concat to join the data frames - note the axis parameter means to join columns\n",
    "training_result = pd.concat([prediction_df, target], axis=1)\n",
    "training_result.head()\n"
   ]
  },
  {
   "cell_type": "markdown",
   "metadata": {},
   "source": [
    "How can we work out the percentage of correctly classified examples - that is where prediction is equal to the target class in Python?"
   ]
  },
  {
   "cell_type": "code",
   "execution_count": 9,
   "metadata": {},
   "outputs": [
    {
     "name": "stdout",
     "output_type": "stream",
     "text": [
      "Accuaracy: 100.0%\n"
     ]
    }
   ],
   "source": [
    "# write the code to calculate the misclassifications here...\n",
    "# calculate the proportion of records where the predicted class is not equal to the actual class\n",
    "from sklearn.metrics import accuracy_score\n",
    "\n",
    "score = accuracy_score(training_result[\"class\"], training_result[\"prediction\"])\n",
    "    \n",
    "print(\"Accuaracy: {}%\".format(score * 100))"
   ]
  },
  {
   "cell_type": "markdown",
   "metadata": {},
   "source": [
    "#### Training data"
   ]
  },
  {
   "cell_type": "markdown",
   "metadata": {},
   "source": [
    "You will have noticed there was a very high correspondance between the target and the classification by the decision tree which is not surprising given the decision tree was learned from this information.\n",
    "\n",
    "What if we don't use all of the training data for learning the decision model?\n",
    "\n",
    "In the following we use every second line in the original data file to learn the decision tree that is based on only half the data (the example uses every second row to learn the decision tree):"
   ]
  },
  {
   "cell_type": "code",
   "execution_count": 10,
   "metadata": {
    "collapsed": true,
    "scrolled": true
   },
   "outputs": [],
   "source": [
    "attributes_training = attributes[attributes.index % 2 != 0]  # Use very 2rd row, exclude every second element starting from 0 \n",
    "                                                            #(note: % is the modulo operator)\n",
    "target_training = target[target.index % 2 != 0] # every second row\n",
    "\n",
    "# learn the decision tree\n",
    "clf2 = tree.DecisionTreeClassifier(criterion='entropy')\n",
    "clf2 = clf.fit(attributes_training,target_training)"
   ]
  },
  {
   "cell_type": "markdown",
   "metadata": {},
   "source": [
    "Now lets use this model for prediction"
   ]
  },
  {
   "cell_type": "code",
   "execution_count": 11,
   "metadata": {},
   "outputs": [
    {
     "data": {
      "text/html": [
       "<div>\n",
       "<style>\n",
       "    .dataframe thead tr:only-child th {\n",
       "        text-align: right;\n",
       "    }\n",
       "\n",
       "    .dataframe thead th {\n",
       "        text-align: left;\n",
       "    }\n",
       "\n",
       "    .dataframe tbody tr th {\n",
       "        vertical-align: top;\n",
       "    }\n",
       "</style>\n",
       "<table border=\"1\" class=\"dataframe\">\n",
       "  <thead>\n",
       "    <tr style=\"text-align: right;\">\n",
       "      <th></th>\n",
       "      <th>prediction</th>\n",
       "    </tr>\n",
       "  </thead>\n",
       "  <tbody>\n",
       "    <tr>\n",
       "      <th>0</th>\n",
       "      <td>Iris-setosa</td>\n",
       "    </tr>\n",
       "    <tr>\n",
       "      <th>1</th>\n",
       "      <td>Iris-setosa</td>\n",
       "    </tr>\n",
       "    <tr>\n",
       "      <th>2</th>\n",
       "      <td>Iris-setosa</td>\n",
       "    </tr>\n",
       "    <tr>\n",
       "      <th>3</th>\n",
       "      <td>Iris-setosa</td>\n",
       "    </tr>\n",
       "    <tr>\n",
       "      <th>4</th>\n",
       "      <td>Iris-setosa</td>\n",
       "    </tr>\n",
       "  </tbody>\n",
       "</table>\n",
       "</div>"
      ],
      "text/plain": [
       "    prediction\n",
       "0  Iris-setosa\n",
       "1  Iris-setosa\n",
       "2  Iris-setosa\n",
       "3  Iris-setosa\n",
       "4  Iris-setosa"
      ]
     },
     "execution_count": 11,
     "metadata": {},
     "output_type": "execute_result"
    }
   ],
   "source": [
    "attributes_test = attributes[attributes.index % 2 != 1]  # Use very 2rd row, exclude every second element starting from 0 \n",
    "                                                            #(note: % is the modulo operator)\n",
    "\n",
    "prediction = clf.predict(attributes_test)\n",
    "prediction_df_1 = pd.DataFrame({\"prediction\": prediction})\n",
    "prediction_df_1.head()\n",
    "\n"
   ]
  },
  {
   "cell_type": "markdown",
   "metadata": {},
   "source": [
    "To evaluate how good the decision tree is at making predictions on \"new\", unseen data (that is unseen during the process of constructing the model) compare the actual value of the target (ie the one in the file) with decision tree predictions."
   ]
  },
  {
   "cell_type": "code",
   "execution_count": 12,
   "metadata": {},
   "outputs": [
    {
     "data": {
      "text/html": [
       "<div>\n",
       "<style>\n",
       "    .dataframe thead tr:only-child th {\n",
       "        text-align: right;\n",
       "    }\n",
       "\n",
       "    .dataframe thead th {\n",
       "        text-align: left;\n",
       "    }\n",
       "\n",
       "    .dataframe tbody tr th {\n",
       "        vertical-align: top;\n",
       "    }\n",
       "</style>\n",
       "<table border=\"1\" class=\"dataframe\">\n",
       "  <thead>\n",
       "    <tr style=\"text-align: right;\">\n",
       "      <th></th>\n",
       "      <th>prediction</th>\n",
       "      <th>class</th>\n",
       "    </tr>\n",
       "  </thead>\n",
       "  <tbody>\n",
       "    <tr>\n",
       "      <th>0</th>\n",
       "      <td>Iris-setosa</td>\n",
       "      <td>Iris-setosa</td>\n",
       "    </tr>\n",
       "    <tr>\n",
       "      <th>1</th>\n",
       "      <td>Iris-setosa</td>\n",
       "      <td>Iris-setosa</td>\n",
       "    </tr>\n",
       "    <tr>\n",
       "      <th>2</th>\n",
       "      <td>Iris-setosa</td>\n",
       "      <td>Iris-setosa</td>\n",
       "    </tr>\n",
       "    <tr>\n",
       "      <th>3</th>\n",
       "      <td>Iris-setosa</td>\n",
       "      <td>Iris-setosa</td>\n",
       "    </tr>\n",
       "    <tr>\n",
       "      <th>4</th>\n",
       "      <td>Iris-setosa</td>\n",
       "      <td>Iris-setosa</td>\n",
       "    </tr>\n",
       "    <tr>\n",
       "      <th>5</th>\n",
       "      <td>Iris-setosa</td>\n",
       "      <td>Iris-setosa</td>\n",
       "    </tr>\n",
       "    <tr>\n",
       "      <th>6</th>\n",
       "      <td>Iris-setosa</td>\n",
       "      <td>Iris-setosa</td>\n",
       "    </tr>\n",
       "    <tr>\n",
       "      <th>7</th>\n",
       "      <td>Iris-setosa</td>\n",
       "      <td>Iris-setosa</td>\n",
       "    </tr>\n",
       "    <tr>\n",
       "      <th>8</th>\n",
       "      <td>Iris-setosa</td>\n",
       "      <td>Iris-setosa</td>\n",
       "    </tr>\n",
       "    <tr>\n",
       "      <th>9</th>\n",
       "      <td>Iris-setosa</td>\n",
       "      <td>Iris-setosa</td>\n",
       "    </tr>\n",
       "    <tr>\n",
       "      <th>10</th>\n",
       "      <td>Iris-setosa</td>\n",
       "      <td>Iris-setosa</td>\n",
       "    </tr>\n",
       "    <tr>\n",
       "      <th>11</th>\n",
       "      <td>Iris-setosa</td>\n",
       "      <td>Iris-setosa</td>\n",
       "    </tr>\n",
       "    <tr>\n",
       "      <th>12</th>\n",
       "      <td>Iris-setosa</td>\n",
       "      <td>Iris-setosa</td>\n",
       "    </tr>\n",
       "    <tr>\n",
       "      <th>13</th>\n",
       "      <td>Iris-setosa</td>\n",
       "      <td>Iris-setosa</td>\n",
       "    </tr>\n",
       "    <tr>\n",
       "      <th>14</th>\n",
       "      <td>Iris-setosa</td>\n",
       "      <td>Iris-setosa</td>\n",
       "    </tr>\n",
       "    <tr>\n",
       "      <th>15</th>\n",
       "      <td>Iris-setosa</td>\n",
       "      <td>Iris-setosa</td>\n",
       "    </tr>\n",
       "    <tr>\n",
       "      <th>16</th>\n",
       "      <td>Iris-setosa</td>\n",
       "      <td>Iris-setosa</td>\n",
       "    </tr>\n",
       "    <tr>\n",
       "      <th>17</th>\n",
       "      <td>Iris-setosa</td>\n",
       "      <td>Iris-setosa</td>\n",
       "    </tr>\n",
       "    <tr>\n",
       "      <th>18</th>\n",
       "      <td>Iris-setosa</td>\n",
       "      <td>Iris-setosa</td>\n",
       "    </tr>\n",
       "    <tr>\n",
       "      <th>19</th>\n",
       "      <td>Iris-setosa</td>\n",
       "      <td>Iris-setosa</td>\n",
       "    </tr>\n",
       "    <tr>\n",
       "      <th>20</th>\n",
       "      <td>Iris-setosa</td>\n",
       "      <td>Iris-setosa</td>\n",
       "    </tr>\n",
       "    <tr>\n",
       "      <th>21</th>\n",
       "      <td>Iris-setosa</td>\n",
       "      <td>Iris-setosa</td>\n",
       "    </tr>\n",
       "    <tr>\n",
       "      <th>22</th>\n",
       "      <td>Iris-setosa</td>\n",
       "      <td>Iris-setosa</td>\n",
       "    </tr>\n",
       "    <tr>\n",
       "      <th>23</th>\n",
       "      <td>Iris-setosa</td>\n",
       "      <td>Iris-setosa</td>\n",
       "    </tr>\n",
       "    <tr>\n",
       "      <th>24</th>\n",
       "      <td>Iris-setosa</td>\n",
       "      <td>Iris-setosa</td>\n",
       "    </tr>\n",
       "    <tr>\n",
       "      <th>25</th>\n",
       "      <td>Iris-versicolor</td>\n",
       "      <td>Iris-versicolor</td>\n",
       "    </tr>\n",
       "    <tr>\n",
       "      <th>26</th>\n",
       "      <td>Iris-virginica</td>\n",
       "      <td>Iris-versicolor</td>\n",
       "    </tr>\n",
       "    <tr>\n",
       "      <th>27</th>\n",
       "      <td>Iris-versicolor</td>\n",
       "      <td>Iris-versicolor</td>\n",
       "    </tr>\n",
       "    <tr>\n",
       "      <th>28</th>\n",
       "      <td>Iris-versicolor</td>\n",
       "      <td>Iris-versicolor</td>\n",
       "    </tr>\n",
       "    <tr>\n",
       "      <th>29</th>\n",
       "      <td>Iris-versicolor</td>\n",
       "      <td>Iris-versicolor</td>\n",
       "    </tr>\n",
       "    <tr>\n",
       "      <th>...</th>\n",
       "      <td>...</td>\n",
       "      <td>...</td>\n",
       "    </tr>\n",
       "    <tr>\n",
       "      <th>45</th>\n",
       "      <td>Iris-versicolor</td>\n",
       "      <td>Iris-versicolor</td>\n",
       "    </tr>\n",
       "    <tr>\n",
       "      <th>46</th>\n",
       "      <td>Iris-versicolor</td>\n",
       "      <td>Iris-versicolor</td>\n",
       "    </tr>\n",
       "    <tr>\n",
       "      <th>47</th>\n",
       "      <td>Iris-versicolor</td>\n",
       "      <td>Iris-versicolor</td>\n",
       "    </tr>\n",
       "    <tr>\n",
       "      <th>48</th>\n",
       "      <td>Iris-versicolor</td>\n",
       "      <td>Iris-versicolor</td>\n",
       "    </tr>\n",
       "    <tr>\n",
       "      <th>49</th>\n",
       "      <td>Iris-versicolor</td>\n",
       "      <td>Iris-versicolor</td>\n",
       "    </tr>\n",
       "    <tr>\n",
       "      <th>50</th>\n",
       "      <td>Iris-virginica</td>\n",
       "      <td>Iris-virginica</td>\n",
       "    </tr>\n",
       "    <tr>\n",
       "      <th>51</th>\n",
       "      <td>Iris-virginica</td>\n",
       "      <td>Iris-virginica</td>\n",
       "    </tr>\n",
       "    <tr>\n",
       "      <th>52</th>\n",
       "      <td>Iris-virginica</td>\n",
       "      <td>Iris-virginica</td>\n",
       "    </tr>\n",
       "    <tr>\n",
       "      <th>53</th>\n",
       "      <td>Iris-versicolor</td>\n",
       "      <td>Iris-virginica</td>\n",
       "    </tr>\n",
       "    <tr>\n",
       "      <th>54</th>\n",
       "      <td>Iris-virginica</td>\n",
       "      <td>Iris-virginica</td>\n",
       "    </tr>\n",
       "    <tr>\n",
       "      <th>55</th>\n",
       "      <td>Iris-virginica</td>\n",
       "      <td>Iris-virginica</td>\n",
       "    </tr>\n",
       "    <tr>\n",
       "      <th>56</th>\n",
       "      <td>Iris-virginica</td>\n",
       "      <td>Iris-virginica</td>\n",
       "    </tr>\n",
       "    <tr>\n",
       "      <th>57</th>\n",
       "      <td>Iris-virginica</td>\n",
       "      <td>Iris-virginica</td>\n",
       "    </tr>\n",
       "    <tr>\n",
       "      <th>58</th>\n",
       "      <td>Iris-virginica</td>\n",
       "      <td>Iris-virginica</td>\n",
       "    </tr>\n",
       "    <tr>\n",
       "      <th>59</th>\n",
       "      <td>Iris-virginica</td>\n",
       "      <td>Iris-virginica</td>\n",
       "    </tr>\n",
       "    <tr>\n",
       "      <th>60</th>\n",
       "      <td>Iris-virginica</td>\n",
       "      <td>Iris-virginica</td>\n",
       "    </tr>\n",
       "    <tr>\n",
       "      <th>61</th>\n",
       "      <td>Iris-virginica</td>\n",
       "      <td>Iris-virginica</td>\n",
       "    </tr>\n",
       "    <tr>\n",
       "      <th>62</th>\n",
       "      <td>Iris-virginica</td>\n",
       "      <td>Iris-virginica</td>\n",
       "    </tr>\n",
       "    <tr>\n",
       "      <th>63</th>\n",
       "      <td>Iris-versicolor</td>\n",
       "      <td>Iris-virginica</td>\n",
       "    </tr>\n",
       "    <tr>\n",
       "      <th>64</th>\n",
       "      <td>Iris-virginica</td>\n",
       "      <td>Iris-virginica</td>\n",
       "    </tr>\n",
       "    <tr>\n",
       "      <th>65</th>\n",
       "      <td>Iris-virginica</td>\n",
       "      <td>Iris-virginica</td>\n",
       "    </tr>\n",
       "    <tr>\n",
       "      <th>66</th>\n",
       "      <td>Iris-virginica</td>\n",
       "      <td>Iris-virginica</td>\n",
       "    </tr>\n",
       "    <tr>\n",
       "      <th>67</th>\n",
       "      <td>Iris-virginica</td>\n",
       "      <td>Iris-virginica</td>\n",
       "    </tr>\n",
       "    <tr>\n",
       "      <th>68</th>\n",
       "      <td>Iris-virginica</td>\n",
       "      <td>Iris-virginica</td>\n",
       "    </tr>\n",
       "    <tr>\n",
       "      <th>69</th>\n",
       "      <td>Iris-versicolor</td>\n",
       "      <td>Iris-virginica</td>\n",
       "    </tr>\n",
       "    <tr>\n",
       "      <th>70</th>\n",
       "      <td>Iris-virginica</td>\n",
       "      <td>Iris-virginica</td>\n",
       "    </tr>\n",
       "    <tr>\n",
       "      <th>71</th>\n",
       "      <td>Iris-virginica</td>\n",
       "      <td>Iris-virginica</td>\n",
       "    </tr>\n",
       "    <tr>\n",
       "      <th>72</th>\n",
       "      <td>Iris-virginica</td>\n",
       "      <td>Iris-virginica</td>\n",
       "    </tr>\n",
       "    <tr>\n",
       "      <th>73</th>\n",
       "      <td>Iris-virginica</td>\n",
       "      <td>Iris-virginica</td>\n",
       "    </tr>\n",
       "    <tr>\n",
       "      <th>74</th>\n",
       "      <td>Iris-virginica</td>\n",
       "      <td>Iris-virginica</td>\n",
       "    </tr>\n",
       "  </tbody>\n",
       "</table>\n",
       "<p>75 rows × 2 columns</p>\n",
       "</div>"
      ],
      "text/plain": [
       "         prediction            class\n",
       "0       Iris-setosa      Iris-setosa\n",
       "1       Iris-setosa      Iris-setosa\n",
       "2       Iris-setosa      Iris-setosa\n",
       "3       Iris-setosa      Iris-setosa\n",
       "4       Iris-setosa      Iris-setosa\n",
       "5       Iris-setosa      Iris-setosa\n",
       "6       Iris-setosa      Iris-setosa\n",
       "7       Iris-setosa      Iris-setosa\n",
       "8       Iris-setosa      Iris-setosa\n",
       "9       Iris-setosa      Iris-setosa\n",
       "10      Iris-setosa      Iris-setosa\n",
       "11      Iris-setosa      Iris-setosa\n",
       "12      Iris-setosa      Iris-setosa\n",
       "13      Iris-setosa      Iris-setosa\n",
       "14      Iris-setosa      Iris-setosa\n",
       "15      Iris-setosa      Iris-setosa\n",
       "16      Iris-setosa      Iris-setosa\n",
       "17      Iris-setosa      Iris-setosa\n",
       "18      Iris-setosa      Iris-setosa\n",
       "19      Iris-setosa      Iris-setosa\n",
       "20      Iris-setosa      Iris-setosa\n",
       "21      Iris-setosa      Iris-setosa\n",
       "22      Iris-setosa      Iris-setosa\n",
       "23      Iris-setosa      Iris-setosa\n",
       "24      Iris-setosa      Iris-setosa\n",
       "25  Iris-versicolor  Iris-versicolor\n",
       "26   Iris-virginica  Iris-versicolor\n",
       "27  Iris-versicolor  Iris-versicolor\n",
       "28  Iris-versicolor  Iris-versicolor\n",
       "29  Iris-versicolor  Iris-versicolor\n",
       "..              ...              ...\n",
       "45  Iris-versicolor  Iris-versicolor\n",
       "46  Iris-versicolor  Iris-versicolor\n",
       "47  Iris-versicolor  Iris-versicolor\n",
       "48  Iris-versicolor  Iris-versicolor\n",
       "49  Iris-versicolor  Iris-versicolor\n",
       "50   Iris-virginica   Iris-virginica\n",
       "51   Iris-virginica   Iris-virginica\n",
       "52   Iris-virginica   Iris-virginica\n",
       "53  Iris-versicolor   Iris-virginica\n",
       "54   Iris-virginica   Iris-virginica\n",
       "55   Iris-virginica   Iris-virginica\n",
       "56   Iris-virginica   Iris-virginica\n",
       "57   Iris-virginica   Iris-virginica\n",
       "58   Iris-virginica   Iris-virginica\n",
       "59   Iris-virginica   Iris-virginica\n",
       "60   Iris-virginica   Iris-virginica\n",
       "61   Iris-virginica   Iris-virginica\n",
       "62   Iris-virginica   Iris-virginica\n",
       "63  Iris-versicolor   Iris-virginica\n",
       "64   Iris-virginica   Iris-virginica\n",
       "65   Iris-virginica   Iris-virginica\n",
       "66   Iris-virginica   Iris-virginica\n",
       "67   Iris-virginica   Iris-virginica\n",
       "68   Iris-virginica   Iris-virginica\n",
       "69  Iris-versicolor   Iris-virginica\n",
       "70   Iris-virginica   Iris-virginica\n",
       "71   Iris-virginica   Iris-virginica\n",
       "72   Iris-virginica   Iris-virginica\n",
       "73   Iris-virginica   Iris-virginica\n",
       "74   Iris-virginica   Iris-virginica\n",
       "\n",
       "[75 rows x 2 columns]"
      ]
     },
     "execution_count": 12,
     "metadata": {},
     "output_type": "execute_result"
    }
   ],
   "source": [
    "actual_class_test = target[target.index % 2 != 1] \n",
    "actual_class_test.index=range(75)\n",
    "\n",
    "training_result = pd.concat([prediction_df_1, actual_class_test], axis=1)\n",
    "\n",
    "training_result"
   ]
  },
  {
   "cell_type": "markdown",
   "metadata": {},
   "source": [
    "Looking at the above you can quickly observe the results of the prediction differ from the original dataset. \n",
    "\n",
    "Use your method to calculate the misclassification percentage to evaluate the decision tree classifier"
   ]
  },
  {
   "cell_type": "code",
   "execution_count": 13,
   "metadata": {},
   "outputs": [
    {
     "data": {
      "text/plain": [
       "0.93333333333333335"
      ]
     },
     "execution_count": 13,
     "metadata": {},
     "output_type": "execute_result"
    }
   ],
   "source": [
    "accuracy_score(training_result[\"class\"], training_result[\"prediction\"])"
   ]
  },
  {
   "cell_type": "markdown",
   "metadata": {},
   "source": [
    "## 4. Exercise"
   ]
  },
  {
   "cell_type": "markdown",
   "metadata": {},
   "source": [
    "Now download another dataset from the UCI Machine Learning Repository and perform a similar analysis.\n",
    "\n",
    "Make sure to choose one the classification problems: https://archive.ics.uci.edu/ml/datasets.html?format=&task=cla&att=&area=&numAtt=&numIns=100to1000&type=&sort=nameUp&view=table\n",
    "\n",
    "It would be a good idea to have a look also at the dataset in your browser to find one using csv format :-)\n",
    "\n",
    "1. First perform some initial examinations of the data using head etc\n",
    "1. Then generate summary statistics\n",
    "1. Next generate some plots to visualise the data\n",
    "1. Then learn a decision tree classifier "
   ]
  },
  {
   "cell_type": "markdown",
   "metadata": {},
   "source": [
    "### Load Dow Jones index data"
   ]
  },
  {
   "cell_type": "code",
   "execution_count": 1,
   "metadata": {},
   "outputs": [
    {
     "name": "stdout",
     "output_type": "stream",
     "text": [
      "1. Title\n",
      "\n",
      ": Weekly stock data for Dow Jones Index\n",
      "\n",
      "2. Source:\n",
      "\n",
      " This dataset comprises data reported by the major stock exchanges.\n",
      "\n",
      "3. Past Usage\n",
      "This dataset was first used in:\n",
      "\n",
      "Brown, M. S., Pelosi, M. & Dirska, H. (2013). Dynamic-radius Species-conserving Genetic Algorithm for \n",
      "the Financial Forecasting of Dow Jones Index Stocks. Machine Learning and Data Mining in Pattern \n",
      "Recognition, 7988, 27-41.\n",
      "\n",
      "We request that you provide a citation to this paper when using the dataset.  We welcome you to \n",
      "compare your results against ours in (Brown, Pelosi & Dirska, 2013).\n",
      "\n",
      "\n",
      "\n",
      "4. Relevant Information\n",
      "\tIn predicting stock prices you collect data over some period of time - day, week, month, etc.\n",
      "\tBut you cannot take advantage of data from a time period until the next increment of the time period. \n",
      "\tFor example, assume you collect data daily.  When Monday is over you have all of the data\n",
      "\tfor that day.  However you can invest on Monday, because you don't get the data until the\n",
      "\tend of the day.  You can use the data from Monday to invest on Tuesday.  \n",
      "\n",
      "\tIn our research each record (row) is data for a week.  Each record also has the percentage\n",
      "\tof return that stock has in the following week (percent_change_next_weeks_price). Ideally,\n",
      "\tyou want to determine which stock will produce the greatest rate of return in the following\n",
      "\tweek.  This can help you train and test your algorithm.\n",
      "\n",
      "\tSome of these attributes might not be use used in your research.  They were\n",
      "\toriginally added to our database to perform calculations.  (Brown, Pelosi & Dirska, 2013)\n",
      "\tused percent_change_price, percent_change_volume_over_last_wk, days_to_next_dividend, \n",
      "\tand percent_return_next_dividend.  We left the other attributes in the dataset\n",
      "\tin case you wanted to use any of them. Of course what you want to maximize is\n",
      "\tpercent_change_next_weeks_price.\n",
      "\n",
      "\tTraining data vs Test data:\n",
      "\tIn (Brown, Pelosi & Dirska, 2013) we used quarter 1 (Jan-Mar) data for training and\n",
      "\tquarter 2 (Apr-Jun) data for testing.\n",
      "\n",
      "\tInteresting data points:\n",
      "\tIf you use quarter 2 data for testing, you will notice something interesting in \n",
      "\tthe week ending 5/27/2011 every Dow Jones Index stock lost money.\n",
      "\n",
      "\tThe Dow Jones Index stocks change over time.  The stocks that made up the index in 2011 were:\n",
      "\t\t3M\t\t \tMMM\n",
      "\t\tAmerican Express \tAXP\n",
      "\t\tAlcoa\t\t\tAA\n",
      "\t\tAT&T \t\t\tT\n",
      "\t\tBank of America\t\tBAC\n",
      "\t\tBoeing \t\t \tBA\n",
      "\t\tCaterpillar \t \tCAT\n",
      "\t\tChevron \t \tCVX\n",
      "\t\tCisco Systems \t\tCSCO\n",
      "\t\tCoca-Cola \t \tKO\n",
      "\t\tDuPont \t\t \tDD\n",
      "\t\tExxonMobil \t \tXOM\n",
      "\t\tGeneral Electric \tGE\n",
      "\t\tHewlett-Packard\t\tHPQ\n",
      "\t\tThe Home Depot \t \tHD\n",
      "\t\tIntel \t\t \tINTC\n",
      "\t\tIBM \t\t \tIBM\n",
      "\t\tJohnson & Johnson \tJNJ\t\n",
      "\t\tJPMorgan Chase \t \tJPM\n",
      "\t\tKraft\t\t\tKRFT\n",
      "\t\tMcDonald's \t\tMCD\n",
      "\t\tMerck \t\t \tMRK\n",
      "\t\tMicrosoft \t \tMSFT\n",
      "\t\tPfizer \t\t \tPFE\n",
      "\t\tProcter & Gamble \tPG\n",
      "\t\tTravelers \t \tTRV\n",
      "\t\tUnited Technologies \tUTX\n",
      "\t\tVerizon \t \tVZ\n",
      "\t\tWal-Mart \t \tWMT\n",
      "\t\tWalt Disney \t \tDIS\n",
      "\n",
      "\n",
      "\n",
      "\n",
      "\n",
      "5. Number of Instances\n",
      "\n",
      "There are 750 data records.  360 are from the first quarter of the year (Jan to Mar).\n",
      "\n",
      "390 are from the second quarter of the year (Apr to Jun).\n",
      "\n",
      "\n",
      "\n",
      "6. Number of Attributes\n",
      "There are 16 attributes.  \n",
      "\n",
      "7. For each Attribute\n",
      "\n",
      "\n",
      "\tquarter:  the yearly quarter (1 = Jan-Mar; 2 = Apr=Jun).\n",
      "\tstock: the stock symbol (see above)\n",
      "\tdate: the last business day of the work (this is typically a Friday)\n",
      "\topen: the price of the stock at the beginning of the week\n",
      "\thigh: the highest price of the stock during the week\n",
      "\tlow: the lowest price of the stock during the week\n",
      "\tclose: the price of the stock at the end of the week\n",
      "\tvolume: the number of shares of stock that traded hands in the week\n",
      "\tpercent_change_price: the percentage change in price throughout the week\n",
      "\tpercent_chagne_volume_over_last_wek: the percentage change in the number of shares of \n",
      "\t\tstock that traded hands for this week compared to the previous week\n",
      "\tprevious_weeks_volume: the number of shares of stock that traded hands in the previous week\n",
      "\tnext_weeks_open: the opening price of the stock in the following week\n",
      "\tnext_weeks_close: the closing price of the stock in the following week\n",
      "\tpercent_change_next_weeks_price: the percentage change in price of the stock in the \n",
      "\t\tfollowing week days_to_next_dividend: the number of days until the next dividend\n",
      "\tpercent_return_next_dividend: the percentage of return on the next dividend\n",
      "\n",
      "8. Missing Attribute Values:\n",
      "\n",
      "      None\n",
      "\n",
      "\n",
      "\n",
      "\n"
     ]
    }
   ],
   "source": [
    "# You can put your code here and try to make it easy for another person to read.\n",
    "# For the final version you probably don't need more than one cells for each of the \n",
    "# points 1-4 above. Make sure to delete  empty cells when you are finished using the little \n",
    "# sissors icon at the top\n",
    "\n",
    "import urllib.request\n",
    "import pandas as pd\n",
    "import numpy as np\n",
    "\n",
    "data = pd.read_csv(\"data/dow_jones_index.data\")\n",
    "data[\"stock\"].value_counts()\n",
    "desc = open(\"data/dow_jones_index.names\", \"r\")\n",
    "print(desc.read())"
   ]
  },
  {
   "cell_type": "code",
   "execution_count": 2,
   "metadata": {},
   "outputs": [
    {
     "data": {
      "text/html": [
       "<div>\n",
       "<style>\n",
       "    .dataframe thead tr:only-child th {\n",
       "        text-align: right;\n",
       "    }\n",
       "\n",
       "    .dataframe thead th {\n",
       "        text-align: left;\n",
       "    }\n",
       "\n",
       "    .dataframe tbody tr th {\n",
       "        vertical-align: top;\n",
       "    }\n",
       "</style>\n",
       "<table border=\"1\" class=\"dataframe\">\n",
       "  <thead>\n",
       "    <tr style=\"text-align: right;\">\n",
       "      <th></th>\n",
       "      <th>quarter</th>\n",
       "      <th>stock</th>\n",
       "      <th>date</th>\n",
       "      <th>open</th>\n",
       "      <th>high</th>\n",
       "      <th>low</th>\n",
       "      <th>close</th>\n",
       "      <th>volume</th>\n",
       "      <th>percent_change_price</th>\n",
       "      <th>percent_change_volume_over_last_wk</th>\n",
       "      <th>previous_weeks_volume</th>\n",
       "      <th>next_weeks_open</th>\n",
       "      <th>next_weeks_close</th>\n",
       "      <th>percent_change_next_weeks_price</th>\n",
       "      <th>days_to_next_dividend</th>\n",
       "      <th>percent_return_next_dividend</th>\n",
       "    </tr>\n",
       "  </thead>\n",
       "  <tbody>\n",
       "    <tr>\n",
       "      <th>0</th>\n",
       "      <td>1</td>\n",
       "      <td>AA</td>\n",
       "      <td>1/7/2011</td>\n",
       "      <td>$15.82</td>\n",
       "      <td>$16.72</td>\n",
       "      <td>$15.78</td>\n",
       "      <td>$16.42</td>\n",
       "      <td>239655616</td>\n",
       "      <td>3.79267</td>\n",
       "      <td>NaN</td>\n",
       "      <td>NaN</td>\n",
       "      <td>$16.71</td>\n",
       "      <td>$15.97</td>\n",
       "      <td>-4.428490</td>\n",
       "      <td>26</td>\n",
       "      <td>0.182704</td>\n",
       "    </tr>\n",
       "    <tr>\n",
       "      <th>1</th>\n",
       "      <td>1</td>\n",
       "      <td>AA</td>\n",
       "      <td>1/14/2011</td>\n",
       "      <td>$16.71</td>\n",
       "      <td>$16.71</td>\n",
       "      <td>$15.64</td>\n",
       "      <td>$15.97</td>\n",
       "      <td>242963398</td>\n",
       "      <td>-4.42849</td>\n",
       "      <td>1.380223</td>\n",
       "      <td>239655616.0</td>\n",
       "      <td>$16.19</td>\n",
       "      <td>$15.79</td>\n",
       "      <td>-2.470660</td>\n",
       "      <td>19</td>\n",
       "      <td>0.187852</td>\n",
       "    </tr>\n",
       "    <tr>\n",
       "      <th>2</th>\n",
       "      <td>1</td>\n",
       "      <td>AA</td>\n",
       "      <td>1/21/2011</td>\n",
       "      <td>$16.19</td>\n",
       "      <td>$16.38</td>\n",
       "      <td>$15.60</td>\n",
       "      <td>$15.79</td>\n",
       "      <td>138428495</td>\n",
       "      <td>-2.47066</td>\n",
       "      <td>-43.024959</td>\n",
       "      <td>242963398.0</td>\n",
       "      <td>$15.87</td>\n",
       "      <td>$16.13</td>\n",
       "      <td>1.638310</td>\n",
       "      <td>12</td>\n",
       "      <td>0.189994</td>\n",
       "    </tr>\n",
       "    <tr>\n",
       "      <th>3</th>\n",
       "      <td>1</td>\n",
       "      <td>AA</td>\n",
       "      <td>1/28/2011</td>\n",
       "      <td>$15.87</td>\n",
       "      <td>$16.63</td>\n",
       "      <td>$15.82</td>\n",
       "      <td>$16.13</td>\n",
       "      <td>151379173</td>\n",
       "      <td>1.63831</td>\n",
       "      <td>9.355500</td>\n",
       "      <td>138428495.0</td>\n",
       "      <td>$16.18</td>\n",
       "      <td>$17.14</td>\n",
       "      <td>5.933250</td>\n",
       "      <td>5</td>\n",
       "      <td>0.185989</td>\n",
       "    </tr>\n",
       "    <tr>\n",
       "      <th>4</th>\n",
       "      <td>1</td>\n",
       "      <td>AA</td>\n",
       "      <td>2/4/2011</td>\n",
       "      <td>$16.18</td>\n",
       "      <td>$17.39</td>\n",
       "      <td>$16.18</td>\n",
       "      <td>$17.14</td>\n",
       "      <td>154387761</td>\n",
       "      <td>5.93325</td>\n",
       "      <td>1.987452</td>\n",
       "      <td>151379173.0</td>\n",
       "      <td>$17.33</td>\n",
       "      <td>$17.37</td>\n",
       "      <td>0.230814</td>\n",
       "      <td>97</td>\n",
       "      <td>0.175029</td>\n",
       "    </tr>\n",
       "  </tbody>\n",
       "</table>\n",
       "</div>"
      ],
      "text/plain": [
       "   quarter stock       date    open    high     low   close     volume  \\\n",
       "0        1    AA   1/7/2011  $15.82  $16.72  $15.78  $16.42  239655616   \n",
       "1        1    AA  1/14/2011  $16.71  $16.71  $15.64  $15.97  242963398   \n",
       "2        1    AA  1/21/2011  $16.19  $16.38  $15.60  $15.79  138428495   \n",
       "3        1    AA  1/28/2011  $15.87  $16.63  $15.82  $16.13  151379173   \n",
       "4        1    AA   2/4/2011  $16.18  $17.39  $16.18  $17.14  154387761   \n",
       "\n",
       "   percent_change_price  percent_change_volume_over_last_wk  \\\n",
       "0               3.79267                                 NaN   \n",
       "1              -4.42849                            1.380223   \n",
       "2              -2.47066                          -43.024959   \n",
       "3               1.63831                            9.355500   \n",
       "4               5.93325                            1.987452   \n",
       "\n",
       "   previous_weeks_volume next_weeks_open next_weeks_close  \\\n",
       "0                    NaN          $16.71           $15.97   \n",
       "1            239655616.0          $16.19           $15.79   \n",
       "2            242963398.0          $15.87           $16.13   \n",
       "3            138428495.0          $16.18           $17.14   \n",
       "4            151379173.0          $17.33           $17.37   \n",
       "\n",
       "   percent_change_next_weeks_price  days_to_next_dividend  \\\n",
       "0                        -4.428490                     26   \n",
       "1                        -2.470660                     19   \n",
       "2                         1.638310                     12   \n",
       "3                         5.933250                      5   \n",
       "4                         0.230814                     97   \n",
       "\n",
       "   percent_return_next_dividend  \n",
       "0                      0.182704  \n",
       "1                      0.187852  \n",
       "2                      0.189994  \n",
       "3                      0.185989  \n",
       "4                      0.175029  "
      ]
     },
     "execution_count": 2,
     "metadata": {},
     "output_type": "execute_result"
    }
   ],
   "source": [
    "data[\"stock\"].value_counts()\n",
    "data.head()"
   ]
  },
  {
   "cell_type": "code",
   "execution_count": 20,
   "metadata": {},
   "outputs": [
    {
     "data": {
      "text/plain": [
       "AXP     25\n",
       "UTX     25\n",
       "DIS     25\n",
       "DD      25\n",
       "AA      25\n",
       "KRFT    25\n",
       "MRK     25\n",
       "MMM     25\n",
       "BAC     25\n",
       "CSCO    25\n",
       "KO      25\n",
       "MSFT    25\n",
       "JPM     25\n",
       "CVX     25\n",
       "PFE     25\n",
       "JNJ     25\n",
       "T       25\n",
       "GE      25\n",
       "HD      25\n",
       "IBM     25\n",
       "WMT     25\n",
       "MCD     25\n",
       "BA      25\n",
       "XOM     25\n",
       "TRV     25\n",
       "INTC    25\n",
       "CAT     25\n",
       "HPQ     25\n",
       "PG      25\n",
       "VZ      25\n",
       "Name: stock, dtype: int64"
      ]
     },
     "execution_count": 20,
     "metadata": {},
     "output_type": "execute_result"
    }
   ],
   "source": [
    "d_q1 = data.loc[data['quarter'] == 1]\n",
    "d_q2 = data.loc[data['quarter'] == 2]\n",
    "data.loc[data['stock'] == \"AA\"]\n",
    "data[\"stock\"].value_counts()"
   ]
  },
  {
   "cell_type": "code",
   "execution_count": 32,
   "metadata": {},
   "outputs": [],
   "source": [
    "stock = data"
   ]
  },
  {
   "cell_type": "code",
   "execution_count": 42,
   "metadata": {},
   "outputs": [
    {
     "data": {
      "image/png": "iVBORw0KGgoAAAANSUhEUgAAAYYAAAELCAYAAADdriHjAAAABHNCSVQICAgIfAhkiAAAAAlwSFlz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\nEZES/wfm4+E1qF7CYgAAAABJRU5ErkJggg==\n",
      "text/plain": [
       "<matplotlib.figure.Figure at 0x7fb6cea00be0>"
      ]
     },
     "metadata": {},
     "output_type": "display_data"
    }
   ],
   "source": [
    "import matplotlib.pyplot as plt\n",
    "\n",
    "x_col = \"volume\"\n",
    "y_col = \"percent_change_price\"\n",
    "\n",
    "x = data[x_col].abs()\n",
    "y = data[y_col].abs()\n",
    "\n",
    "plt.scatter(x, y)\n",
    "\n",
    "#labels\n",
    "plt.xlabel(x_col)\n",
    "plt.ylabel(y_col)\n",
    "\n",
    "plt.show()"
   ]
  },
  {
   "cell_type": "markdown",
   "metadata": {},
   "source": [
    "## 5. Going forward\n",
    "Spend some time to go over the work in this and the previous tutorial to become confortable with the material. Also don't worry too much if you are not quite comfortable with parts 3 and 4. Programming in Python, and programming generally, requires frequent consulting of docs and searching online especially when you are starting out with a new tool."
   ]
  },
  {
   "cell_type": "code",
   "execution_count": null,
   "metadata": {
    "collapsed": true
   },
   "outputs": [],
   "source": []
  }
 ],
 "metadata": {
  "kernelspec": {
   "display_name": "Python 3",
   "language": "python",
   "name": "python3"
  },
  "language_info": {
   "codemirror_mode": {
    "name": "ipython",
    "version": 3
   },
   "file_extension": ".py",
   "mimetype": "text/x-python",
   "name": "python",
   "nbconvert_exporter": "python",
   "pygments_lexer": "ipython3",
   "version": "3.6.3"
  }
 },
 "nbformat": 4,
 "nbformat_minor": 1
}
